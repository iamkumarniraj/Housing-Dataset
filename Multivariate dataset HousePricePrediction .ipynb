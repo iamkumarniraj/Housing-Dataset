{
 "cells": [
  {
   "cell_type": "markdown",
   "id": "9dfa31bf",
   "metadata": {},
   "source": [
    "# Installation of Libraries"
   ]
  },
  {
   "cell_type": "code",
   "execution_count": 1,
   "id": "eab23f2a",
   "metadata": {},
   "outputs": [],
   "source": [
    "import numpy as np  # Importing the NumPy library and renaming it to \"np\"\n",
    "import pandas as pd  # Importing the Pandas library and renaming it to \"pd\"\n",
    "import matplotlib.pyplot as plt  # Importing the Pyplot module from the Matplotlib library and renaming it to \"plt\"\n",
    "import seaborn as sns  # Importing the Seaborn library and renaming it to \"sns\"\n",
    "%matplotlib inline  "
   ]
  },
  {
   "cell_type": "code",
   "execution_count": 2,
   "id": "189dd6f6",
   "metadata": {},
   "outputs": [],
   "source": [
    "#uploading dataset from internal storage\n",
    "df = pd.read_csv(r\"C:\\Users\\niraj\\Downloads\\archiveee\\Bengaluru_House_Data.csv\")"
   ]
  },
  {
   "cell_type": "code",
   "execution_count": 3,
   "id": "577c3e82",
   "metadata": {},
   "outputs": [
    {
     "data": {
      "text/html": [
       "<div>\n",
       "<style scoped>\n",
       "    .dataframe tbody tr th:only-of-type {\n",
       "        vertical-align: middle;\n",
       "    }\n",
       "\n",
       "    .dataframe tbody tr th {\n",
       "        vertical-align: top;\n",
       "    }\n",
       "\n",
       "    .dataframe thead th {\n",
       "        text-align: right;\n",
       "    }\n",
       "</style>\n",
       "<table border=\"1\" class=\"dataframe\">\n",
       "  <thead>\n",
       "    <tr style=\"text-align: right;\">\n",
       "      <th></th>\n",
       "      <th>area_type</th>\n",
       "      <th>availability</th>\n",
       "      <th>location</th>\n",
       "      <th>size</th>\n",
       "      <th>society</th>\n",
       "      <th>total_sqft</th>\n",
       "      <th>bath</th>\n",
       "      <th>balcony</th>\n",
       "      <th>price</th>\n",
       "    </tr>\n",
       "  </thead>\n",
       "  <tbody>\n",
       "    <tr>\n",
       "      <th>0</th>\n",
       "      <td>Super built-up  Area</td>\n",
       "      <td>19-Dec</td>\n",
       "      <td>Electronic City Phase II</td>\n",
       "      <td>2 BHK</td>\n",
       "      <td>Coomee</td>\n",
       "      <td>1056</td>\n",
       "      <td>2.0</td>\n",
       "      <td>1.0</td>\n",
       "      <td>39.07</td>\n",
       "    </tr>\n",
       "    <tr>\n",
       "      <th>1</th>\n",
       "      <td>Plot  Area</td>\n",
       "      <td>Ready To Move</td>\n",
       "      <td>Chikka Tirupathi</td>\n",
       "      <td>4 Bedroom</td>\n",
       "      <td>Theanmp</td>\n",
       "      <td>2600</td>\n",
       "      <td>5.0</td>\n",
       "      <td>3.0</td>\n",
       "      <td>120.00</td>\n",
       "    </tr>\n",
       "    <tr>\n",
       "      <th>2</th>\n",
       "      <td>Built-up  Area</td>\n",
       "      <td>Ready To Move</td>\n",
       "      <td>Uttarahalli</td>\n",
       "      <td>3 BHK</td>\n",
       "      <td>NaN</td>\n",
       "      <td>1440</td>\n",
       "      <td>2.0</td>\n",
       "      <td>3.0</td>\n",
       "      <td>62.00</td>\n",
       "    </tr>\n",
       "    <tr>\n",
       "      <th>3</th>\n",
       "      <td>Super built-up  Area</td>\n",
       "      <td>Ready To Move</td>\n",
       "      <td>Lingadheeranahalli</td>\n",
       "      <td>3 BHK</td>\n",
       "      <td>Soiewre</td>\n",
       "      <td>1521</td>\n",
       "      <td>3.0</td>\n",
       "      <td>1.0</td>\n",
       "      <td>95.00</td>\n",
       "    </tr>\n",
       "    <tr>\n",
       "      <th>4</th>\n",
       "      <td>Super built-up  Area</td>\n",
       "      <td>Ready To Move</td>\n",
       "      <td>Kothanur</td>\n",
       "      <td>2 BHK</td>\n",
       "      <td>NaN</td>\n",
       "      <td>1200</td>\n",
       "      <td>2.0</td>\n",
       "      <td>1.0</td>\n",
       "      <td>51.00</td>\n",
       "    </tr>\n",
       "  </tbody>\n",
       "</table>\n",
       "</div>"
      ],
      "text/plain": [
       "              area_type   availability                  location       size  \\\n",
       "0  Super built-up  Area         19-Dec  Electronic City Phase II      2 BHK   \n",
       "1            Plot  Area  Ready To Move          Chikka Tirupathi  4 Bedroom   \n",
       "2        Built-up  Area  Ready To Move               Uttarahalli      3 BHK   \n",
       "3  Super built-up  Area  Ready To Move        Lingadheeranahalli      3 BHK   \n",
       "4  Super built-up  Area  Ready To Move                  Kothanur      2 BHK   \n",
       "\n",
       "   society total_sqft  bath  balcony   price  \n",
       "0  Coomee        1056   2.0      1.0   39.07  \n",
       "1  Theanmp       2600   5.0      3.0  120.00  \n",
       "2      NaN       1440   2.0      3.0   62.00  \n",
       "3  Soiewre       1521   3.0      1.0   95.00  \n",
       "4      NaN       1200   2.0      1.0   51.00  "
      ]
     },
     "execution_count": 3,
     "metadata": {},
     "output_type": "execute_result"
    }
   ],
   "source": [
    "#reading the first few data from the top \n",
    "df.head()"
   ]
  },
  {
   "cell_type": "markdown",
   "id": "6aad9e7e",
   "metadata": {},
   "source": [
    "# Data Preprocessig, Cleaning and Exploratry Analysis "
   ]
  },
  {
   "cell_type": "code",
   "execution_count": 4,
   "id": "3c794d6b",
   "metadata": {},
   "outputs": [
    {
     "data": {
      "text/plain": [
       "(13320, 9)"
      ]
     },
     "execution_count": 4,
     "metadata": {},
     "output_type": "execute_result"
    }
   ],
   "source": [
    "#checking the shape of the dataset\n",
    "df.shape"
   ]
  },
  {
   "cell_type": "code",
   "execution_count": 5,
   "id": "734fa212",
   "metadata": {},
   "outputs": [
    {
     "data": {
      "text/plain": [
       "area_type          0\n",
       "availability       0\n",
       "location           1\n",
       "size              16\n",
       "society         5502\n",
       "total_sqft         0\n",
       "bath              73\n",
       "balcony          609\n",
       "price              0\n",
       "dtype: int64"
      ]
     },
     "execution_count": 5,
     "metadata": {},
     "output_type": "execute_result"
    }
   ],
   "source": [
    "#counting all the null values present in the each columns\n",
    "df.isnull().sum()"
   ]
  },
  {
   "cell_type": "code",
   "execution_count": 6,
   "id": "f7f5e6df",
   "metadata": {},
   "outputs": [
    {
     "data": {
      "text/plain": [
       "<AxesSubplot:>"
      ]
     },
     "execution_count": 6,
     "metadata": {},
     "output_type": "execute_result"
    },
    {
     "data": {
      "image/png": "[encoded data removed]",
      "text/plain": [
       "<Figure size 1152x1152 with 2 Axes>"
      ]
     },
     "metadata": {
      "needs_background": "light"
     },
     "output_type": "display_data"
    }
   ],
   "source": [
    "#plotting the heatmap to check the null values in datset (visual representation)\n",
    "plt.figure(figsize=(16,16))\n",
    "sns.heatmap(df.isnull())"
   ]
  },
  {
   "cell_type": "code",
   "execution_count": 7,
   "id": "58d5780b",
   "metadata": {},
   "outputs": [
    {
     "data": {
      "text/plain": [
       "area_type        0.000000\n",
       "availability     0.000000\n",
       "location         0.007508\n",
       "size             0.120120\n",
       "society         41.306306\n",
       "total_sqft       0.000000\n",
       "bath             0.548048\n",
       "balcony          4.572072\n",
       "price            0.000000\n",
       "dtype: float64"
      ]
     },
     "execution_count": 7,
     "metadata": {},
     "output_type": "execute_result"
    }
   ],
   "source": [
    "#calculating the percentage of missing data in the dataset \n",
    "df.isnull().sum()/df.shape[0]*100"
   ]
  },
  {
   "cell_type": "markdown",
   "id": "2f8575d8",
   "metadata": {},
   "source": [
    "## Here, the data will be preprocessed for model fitting. In the first scenario, all the columns having category values will be eliminated, and only the columns with numeric values would be processed."
   ]
  },
  {
   "cell_type": "code",
   "execution_count": 8,
   "id": "221ebbcd",
   "metadata": {},
   "outputs": [
    {
     "data": {
      "text/plain": [
       "Index(['area_type', 'availability', 'location', 'size', 'society',\n",
       "       'total_sqft', 'bath', 'balcony', 'price'],\n",
       "      dtype='object')"
      ]
     },
     "execution_count": 8,
     "metadata": {},
     "output_type": "execute_result"
    }
   ],
   "source": [
    "df.keys()"
   ]
  },
  {
   "cell_type": "code",
   "execution_count": 9,
   "id": "0b0cc85b",
   "metadata": {},
   "outputs": [],
   "source": [
    "#we will drop the columns containg categorical value and a coolumn which has a null value more 20%\n",
    "df_drop = df.drop(columns=['area_type','availability','location','society'])"
   ]
  },
  {
   "cell_type": "code",
   "execution_count": 10,
   "id": "32a235c6",
   "metadata": {},
   "outputs": [
    {
     "data": {
      "text/html": [
       "<div>\n",
       "<style scoped>\n",
       "    .dataframe tbody tr th:only-of-type {\n",
       "        vertical-align: middle;\n",
       "    }\n",
       "\n",
       "    .dataframe tbody tr th {\n",
       "        vertical-align: top;\n",
       "    }\n",
       "\n",
       "    .dataframe thead th {\n",
       "        text-align: right;\n",
       "    }\n",
       "</style>\n",
       "<table border=\"1\" class=\"dataframe\">\n",
       "  <thead>\n",
       "    <tr style=\"text-align: right;\">\n",
       "      <th></th>\n",
       "      <th>size</th>\n",
       "      <th>total_sqft</th>\n",
       "      <th>bath</th>\n",
       "      <th>balcony</th>\n",
       "      <th>price</th>\n",
       "    </tr>\n",
       "  </thead>\n",
       "  <tbody>\n",
       "    <tr>\n",
       "      <th>0</th>\n",
       "      <td>2 BHK</td>\n",
       "      <td>1056</td>\n",
       "      <td>2.0</td>\n",
       "      <td>1.0</td>\n",
       "      <td>39.07</td>\n",
       "    </tr>\n",
       "    <tr>\n",
       "      <th>1</th>\n",
       "      <td>4 Bedroom</td>\n",
       "      <td>2600</td>\n",
       "      <td>5.0</td>\n",
       "      <td>3.0</td>\n",
       "      <td>120.00</td>\n",
       "    </tr>\n",
       "    <tr>\n",
       "      <th>2</th>\n",
       "      <td>3 BHK</td>\n",
       "      <td>1440</td>\n",
       "      <td>2.0</td>\n",
       "      <td>3.0</td>\n",
       "      <td>62.00</td>\n",
       "    </tr>\n",
       "    <tr>\n",
       "      <th>3</th>\n",
       "      <td>3 BHK</td>\n",
       "      <td>1521</td>\n",
       "      <td>3.0</td>\n",
       "      <td>1.0</td>\n",
       "      <td>95.00</td>\n",
       "    </tr>\n",
       "    <tr>\n",
       "      <th>4</th>\n",
       "      <td>2 BHK</td>\n",
       "      <td>1200</td>\n",
       "      <td>2.0</td>\n",
       "      <td>1.0</td>\n",
       "      <td>51.00</td>\n",
       "    </tr>\n",
       "  </tbody>\n",
       "</table>\n",
       "</div>"
      ],
      "text/plain": [
       "        size total_sqft  bath  balcony   price\n",
       "0      2 BHK       1056   2.0      1.0   39.07\n",
       "1  4 Bedroom       2600   5.0      3.0  120.00\n",
       "2      3 BHK       1440   2.0      3.0   62.00\n",
       "3      3 BHK       1521   3.0      1.0   95.00\n",
       "4      2 BHK       1200   2.0      1.0   51.00"
      ]
     },
     "execution_count": 10,
     "metadata": {},
     "output_type": "execute_result"
    }
   ],
   "source": [
    "df_drop.head()"
   ]
  },
  {
   "cell_type": "code",
   "execution_count": 11,
   "id": "6b36a357",
   "metadata": {},
   "outputs": [
    {
     "name": "stdout",
     "output_type": "stream",
     "text": [
      "<class 'pandas.core.frame.DataFrame'>\n",
      "RangeIndex: 13320 entries, 0 to 13319\n",
      "Data columns (total 5 columns):\n",
      " #   Column      Non-Null Count  Dtype  \n",
      "---  ------      --------------  -----  \n",
      " 0   size        13304 non-null  object \n",
      " 1   total_sqft  13320 non-null  object \n",
      " 2   bath        13247 non-null  float64\n",
      " 3   balcony     12711 non-null  float64\n",
      " 4   price       13320 non-null  float64\n",
      "dtypes: float64(3), object(2)\n",
      "memory usage: 520.4+ KB\n"
     ]
    }
   ],
   "source": [
    "#since, we want to predict the price of the hosue we need to check the types of data present in the dataset\n",
    "df_drop.info()"
   ]
  },
  {
   "cell_type": "code",
   "execution_count": 12,
   "id": "14f4d154",
   "metadata": {},
   "outputs": [
    {
     "data": {
      "text/plain": [
       "<bound method Series.unique of 0            2 BHK\n",
       "1        4 Bedroom\n",
       "2            3 BHK\n",
       "3            3 BHK\n",
       "4            2 BHK\n",
       "           ...    \n",
       "13315    5 Bedroom\n",
       "13316        4 BHK\n",
       "13317        2 BHK\n",
       "13318        4 BHK\n",
       "13319        1 BHK\n",
       "Name: size, Length: 13320, dtype: object>"
      ]
     },
     "execution_count": 12,
     "metadata": {},
     "output_type": "execute_result"
    }
   ],
   "source": [
    "# size and total_sqft are two columns present in object type data, so we need to convert that object Dtype into Float/int Dtype\n",
    "df_drop['size'].unique"
   ]
  },
  {
   "cell_type": "code",
   "execution_count": 13,
   "id": "25d016cd",
   "metadata": {},
   "outputs": [],
   "source": [
    "#it seems that column size has both string and integer stored together in the dataset. so we will sepearte integer from the str value \n",
    "df_drop['bhk'] = pd.to_numeric(df_drop['size'].str.extract('(\\d+)')[0])"
   ]
  },
  {
   "cell_type": "code",
   "execution_count": 14,
   "id": "4e8261f7",
   "metadata": {},
   "outputs": [
    {
     "data": {
      "text/html": [
       "<div>\n",
       "<style scoped>\n",
       "    .dataframe tbody tr th:only-of-type {\n",
       "        vertical-align: middle;\n",
       "    }\n",
       "\n",
       "    .dataframe tbody tr th {\n",
       "        vertical-align: top;\n",
       "    }\n",
       "\n",
       "    .dataframe thead th {\n",
       "        text-align: right;\n",
       "    }\n",
       "</style>\n",
       "<table border=\"1\" class=\"dataframe\">\n",
       "  <thead>\n",
       "    <tr style=\"text-align: right;\">\n",
       "      <th></th>\n",
       "      <th>size</th>\n",
       "      <th>total_sqft</th>\n",
       "      <th>bath</th>\n",
       "      <th>balcony</th>\n",
       "      <th>price</th>\n",
       "      <th>bhk</th>\n",
       "    </tr>\n",
       "  </thead>\n",
       "  <tbody>\n",
       "    <tr>\n",
       "      <th>0</th>\n",
       "      <td>2 BHK</td>\n",
       "      <td>1056</td>\n",
       "      <td>2.0</td>\n",
       "      <td>1.0</td>\n",
       "      <td>39.07</td>\n",
       "      <td>2.0</td>\n",
       "    </tr>\n",
       "    <tr>\n",
       "      <th>1</th>\n",
       "      <td>4 Bedroom</td>\n",
       "      <td>2600</td>\n",
       "      <td>5.0</td>\n",
       "      <td>3.0</td>\n",
       "      <td>120.00</td>\n",
       "      <td>4.0</td>\n",
       "    </tr>\n",
       "    <tr>\n",
       "      <th>2</th>\n",
       "      <td>3 BHK</td>\n",
       "      <td>1440</td>\n",
       "      <td>2.0</td>\n",
       "      <td>3.0</td>\n",
       "      <td>62.00</td>\n",
       "      <td>3.0</td>\n",
       "    </tr>\n",
       "    <tr>\n",
       "      <th>3</th>\n",
       "      <td>3 BHK</td>\n",
       "      <td>1521</td>\n",
       "      <td>3.0</td>\n",
       "      <td>1.0</td>\n",
       "      <td>95.00</td>\n",
       "      <td>3.0</td>\n",
       "    </tr>\n",
       "    <tr>\n",
       "      <th>4</th>\n",
       "      <td>2 BHK</td>\n",
       "      <td>1200</td>\n",
       "      <td>2.0</td>\n",
       "      <td>1.0</td>\n",
       "      <td>51.00</td>\n",
       "      <td>2.0</td>\n",
       "    </tr>\n",
       "  </tbody>\n",
       "</table>\n",
       "</div>"
      ],
      "text/plain": [
       "        size total_sqft  bath  balcony   price  bhk\n",
       "0      2 BHK       1056   2.0      1.0   39.07  2.0\n",
       "1  4 Bedroom       2600   5.0      3.0  120.00  4.0\n",
       "2      3 BHK       1440   2.0      3.0   62.00  3.0\n",
       "3      3 BHK       1521   3.0      1.0   95.00  3.0\n",
       "4      2 BHK       1200   2.0      1.0   51.00  2.0"
      ]
     },
     "execution_count": 14,
     "metadata": {},
     "output_type": "execute_result"
    }
   ],
   "source": [
    "df_drop.head()"
   ]
  },
  {
   "cell_type": "code",
   "execution_count": 15,
   "id": "31592210",
   "metadata": {},
   "outputs": [
    {
     "data": {
      "text/html": [
       "<div>\n",
       "<style scoped>\n",
       "    .dataframe tbody tr th:only-of-type {\n",
       "        vertical-align: middle;\n",
       "    }\n",
       "\n",
       "    .dataframe tbody tr th {\n",
       "        vertical-align: top;\n",
       "    }\n",
       "\n",
       "    .dataframe thead th {\n",
       "        text-align: right;\n",
       "    }\n",
       "</style>\n",
       "<table border=\"1\" class=\"dataframe\">\n",
       "  <thead>\n",
       "    <tr style=\"text-align: right;\">\n",
       "      <th></th>\n",
       "      <th>size</th>\n",
       "      <th>total_sqft</th>\n",
       "      <th>bath</th>\n",
       "      <th>balcony</th>\n",
       "      <th>price</th>\n",
       "      <th>bhk</th>\n",
       "    </tr>\n",
       "  </thead>\n",
       "  <tbody>\n",
       "    <tr>\n",
       "      <th>50</th>\n",
       "      <td>2 BHK</td>\n",
       "      <td>1270</td>\n",
       "      <td>2.0</td>\n",
       "      <td>1.0</td>\n",
       "      <td>50.0</td>\n",
       "      <td>2.0</td>\n",
       "    </tr>\n",
       "    <tr>\n",
       "      <th>51</th>\n",
       "      <td>3 BHK</td>\n",
       "      <td>1670</td>\n",
       "      <td>3.0</td>\n",
       "      <td>1.0</td>\n",
       "      <td>99.0</td>\n",
       "      <td>3.0</td>\n",
       "    </tr>\n",
       "    <tr>\n",
       "      <th>52</th>\n",
       "      <td>3 BHK</td>\n",
       "      <td>2010</td>\n",
       "      <td>3.0</td>\n",
       "      <td>2.0</td>\n",
       "      <td>91.0</td>\n",
       "      <td>3.0</td>\n",
       "    </tr>\n",
       "    <tr>\n",
       "      <th>53</th>\n",
       "      <td>2 BHK</td>\n",
       "      <td>1185</td>\n",
       "      <td>2.0</td>\n",
       "      <td>2.0</td>\n",
       "      <td>75.0</td>\n",
       "      <td>2.0</td>\n",
       "    </tr>\n",
       "    <tr>\n",
       "      <th>54</th>\n",
       "      <td>3 BHK</td>\n",
       "      <td>1600</td>\n",
       "      <td>2.0</td>\n",
       "      <td>3.0</td>\n",
       "      <td>75.0</td>\n",
       "      <td>3.0</td>\n",
       "    </tr>\n",
       "    <tr>\n",
       "      <th>55</th>\n",
       "      <td>2 BHK</td>\n",
       "      <td>1200</td>\n",
       "      <td>2.0</td>\n",
       "      <td>2.0</td>\n",
       "      <td>44.0</td>\n",
       "      <td>2.0</td>\n",
       "    </tr>\n",
       "    <tr>\n",
       "      <th>56</th>\n",
       "      <td>4 Bedroom</td>\n",
       "      <td>3010 - 3410</td>\n",
       "      <td>NaN</td>\n",
       "      <td>NaN</td>\n",
       "      <td>192.0</td>\n",
       "      <td>4.0</td>\n",
       "    </tr>\n",
       "    <tr>\n",
       "      <th>57</th>\n",
       "      <td>2 BHK</td>\n",
       "      <td>1500</td>\n",
       "      <td>2.0</td>\n",
       "      <td>2.0</td>\n",
       "      <td>185.0</td>\n",
       "      <td>2.0</td>\n",
       "    </tr>\n",
       "    <tr>\n",
       "      <th>58</th>\n",
       "      <td>6 Bedroom</td>\n",
       "      <td>1407</td>\n",
       "      <td>4.0</td>\n",
       "      <td>1.0</td>\n",
       "      <td>150.0</td>\n",
       "      <td>6.0</td>\n",
       "    </tr>\n",
       "    <tr>\n",
       "      <th>59</th>\n",
       "      <td>2 BHK</td>\n",
       "      <td>840</td>\n",
       "      <td>2.0</td>\n",
       "      <td>2.0</td>\n",
       "      <td>45.0</td>\n",
       "      <td>2.0</td>\n",
       "    </tr>\n",
       "  </tbody>\n",
       "</table>\n",
       "</div>"
      ],
      "text/plain": [
       "         size   total_sqft  bath  balcony  price  bhk\n",
       "50      2 BHK         1270   2.0      1.0   50.0  2.0\n",
       "51      3 BHK         1670   3.0      1.0   99.0  3.0\n",
       "52      3 BHK         2010   3.0      2.0   91.0  3.0\n",
       "53      2 BHK         1185   2.0      2.0   75.0  2.0\n",
       "54      3 BHK         1600   2.0      3.0   75.0  3.0\n",
       "55      2 BHK         1200   2.0      2.0   44.0  2.0\n",
       "56  4 Bedroom  3010 - 3410   NaN      NaN  192.0  4.0\n",
       "57      2 BHK         1500   2.0      2.0  185.0  2.0\n",
       "58  6 Bedroom         1407   4.0      1.0  150.0  6.0\n",
       "59      2 BHK          840   2.0      2.0   45.0  2.0"
      ]
     },
     "execution_count": 15,
     "metadata": {},
     "output_type": "execute_result"
    }
   ],
   "source": [
    "df_drop[50:60]"
   ]
  },
  {
   "cell_type": "code",
   "execution_count": 16,
   "id": "c3cf9a18",
   "metadata": {},
   "outputs": [],
   "source": [
    "#we have extracted numeric value from column size so we will drop that column as well\n",
    "df_drop.drop(columns=['size'], inplace = True)"
   ]
  },
  {
   "cell_type": "code",
   "execution_count": 17,
   "id": "a6f8d2f6",
   "metadata": {},
   "outputs": [
    {
     "data": {
      "text/html": [
       "<div>\n",
       "<style scoped>\n",
       "    .dataframe tbody tr th:only-of-type {\n",
       "        vertical-align: middle;\n",
       "    }\n",
       "\n",
       "    .dataframe tbody tr th {\n",
       "        vertical-align: top;\n",
       "    }\n",
       "\n",
       "    .dataframe thead th {\n",
       "        text-align: right;\n",
       "    }\n",
       "</style>\n",
       "<table border=\"1\" class=\"dataframe\">\n",
       "  <thead>\n",
       "    <tr style=\"text-align: right;\">\n",
       "      <th></th>\n",
       "      <th>total_sqft</th>\n",
       "      <th>bath</th>\n",
       "      <th>balcony</th>\n",
       "      <th>price</th>\n",
       "      <th>bhk</th>\n",
       "    </tr>\n",
       "  </thead>\n",
       "  <tbody>\n",
       "    <tr>\n",
       "      <th>0</th>\n",
       "      <td>1056</td>\n",
       "      <td>2.0</td>\n",
       "      <td>1.0</td>\n",
       "      <td>39.07</td>\n",
       "      <td>2.0</td>\n",
       "    </tr>\n",
       "    <tr>\n",
       "      <th>1</th>\n",
       "      <td>2600</td>\n",
       "      <td>5.0</td>\n",
       "      <td>3.0</td>\n",
       "      <td>120.00</td>\n",
       "      <td>4.0</td>\n",
       "    </tr>\n",
       "    <tr>\n",
       "      <th>2</th>\n",
       "      <td>1440</td>\n",
       "      <td>2.0</td>\n",
       "      <td>3.0</td>\n",
       "      <td>62.00</td>\n",
       "      <td>3.0</td>\n",
       "    </tr>\n",
       "    <tr>\n",
       "      <th>3</th>\n",
       "      <td>1521</td>\n",
       "      <td>3.0</td>\n",
       "      <td>1.0</td>\n",
       "      <td>95.00</td>\n",
       "      <td>3.0</td>\n",
       "    </tr>\n",
       "    <tr>\n",
       "      <th>4</th>\n",
       "      <td>1200</td>\n",
       "      <td>2.0</td>\n",
       "      <td>1.0</td>\n",
       "      <td>51.00</td>\n",
       "      <td>2.0</td>\n",
       "    </tr>\n",
       "  </tbody>\n",
       "</table>\n",
       "</div>"
      ],
      "text/plain": [
       "  total_sqft  bath  balcony   price  bhk\n",
       "0       1056   2.0      1.0   39.07  2.0\n",
       "1       2600   5.0      3.0  120.00  4.0\n",
       "2       1440   2.0      3.0   62.00  3.0\n",
       "3       1521   3.0      1.0   95.00  3.0\n",
       "4       1200   2.0      1.0   51.00  2.0"
      ]
     },
     "execution_count": 17,
     "metadata": {},
     "output_type": "execute_result"
    }
   ],
   "source": [
    "df_drop.head()"
   ]
  },
  {
   "cell_type": "code",
   "execution_count": 18,
   "id": "8f344643",
   "metadata": {},
   "outputs": [
    {
     "name": "stdout",
     "output_type": "stream",
     "text": [
      "<class 'pandas.core.frame.DataFrame'>\n",
      "RangeIndex: 13320 entries, 0 to 13319\n",
      "Data columns (total 5 columns):\n",
      " #   Column      Non-Null Count  Dtype  \n",
      "---  ------      --------------  -----  \n",
      " 0   total_sqft  13320 non-null  object \n",
      " 1   bath        13247 non-null  float64\n",
      " 2   balcony     12711 non-null  float64\n",
      " 3   price       13320 non-null  float64\n",
      " 4   bhk         13304 non-null  float64\n",
      "dtypes: float64(4), object(1)\n",
      "memory usage: 520.4+ KB\n"
     ]
    },
    {
     "data": {
      "text/plain": [
       "(total_sqft      0\n",
       " bath           73\n",
       " balcony       609\n",
       " price           0\n",
       " bhk            16\n",
       " dtype: int64,\n",
       " None)"
      ]
     },
     "execution_count": 18,
     "metadata": {},
     "output_type": "execute_result"
    }
   ],
   "source": [
    "df_drop.isnull().sum(),df_drop.info()"
   ]
  },
  {
   "cell_type": "code",
   "execution_count": 19,
   "id": "3cdbad9f",
   "metadata": {},
   "outputs": [
    {
     "data": {
      "text/plain": [
       "(total_sqft    0.000000\n",
       " bath          0.548048\n",
       " balcony       4.572072\n",
       " price         0.000000\n",
       " bhk           0.120120\n",
       " dtype: float64,\n",
       " (13320, 5))"
      ]
     },
     "execution_count": 19,
     "metadata": {},
     "output_type": "execute_result"
    }
   ],
   "source": [
    "df_drop.isnull().sum()/df_drop.shape[0]*100, df_drop.shape"
   ]
  },
  {
   "cell_type": "code",
   "execution_count": 20,
   "id": "c7d66cac",
   "metadata": {},
   "outputs": [
    {
     "data": {
      "text/plain": [
       "<AxesSubplot:>"
      ]
     },
     "execution_count": 20,
     "metadata": {},
     "output_type": "execute_result"
    },
    {
     "data": {
      "image/png": "[encoded data removed]",
      "text/plain": [
       "<Figure size 1152x1152 with 2 Axes>"
      ]
     },
     "metadata": {
      "needs_background": "light"
     },
     "output_type": "display_data"
    }
   ],
   "source": [
    "#plotting heatmap to see the missing value present in the new dataframe after dropping the columns\n",
    "plt.figure(figsize=(16,16))\n",
    "sns.heatmap(df_drop.isnull())"
   ]
  },
  {
   "cell_type": "code",
   "execution_count": 21,
   "id": "6e157f1f",
   "metadata": {},
   "outputs": [],
   "source": [
    "#here the range value are converted into single integer \n",
    "def convertRange_into_singleinteger(a):\n",
    "    try:\n",
    "        return float(a)\n",
    "    except ValueError:\n",
    "        pass\n",
    "    \n",
    "    try:\n",
    "        lower_bound, upper_bound = map(float, a.split('-'))\n",
    "        return (lower_bound + upper_bound) / 2\n",
    "    except ValueError:\n",
    "        return None"
   ]
  },
  {
   "cell_type": "code",
   "execution_count": 22,
   "id": "00f76984",
   "metadata": {},
   "outputs": [],
   "source": [
    "#after converting the range value into float type we applied the changes into dataframe\n",
    "df_drop['total_sqft'] = df_drop['total_sqft'].apply(convertRange_into_singleinteger)"
   ]
  },
  {
   "cell_type": "code",
   "execution_count": 23,
   "id": "f8e272e3",
   "metadata": {},
   "outputs": [
    {
     "name": "stdout",
     "output_type": "stream",
     "text": [
      "<class 'pandas.core.frame.DataFrame'>\n",
      "RangeIndex: 13320 entries, 0 to 13319\n",
      "Data columns (total 5 columns):\n",
      " #   Column      Non-Null Count  Dtype  \n",
      "---  ------      --------------  -----  \n",
      " 0   total_sqft  13274 non-null  float64\n",
      " 1   bath        13247 non-null  float64\n",
      " 2   balcony     12711 non-null  float64\n",
      " 3   price       13320 non-null  float64\n",
      " 4   bhk         13304 non-null  float64\n",
      "dtypes: float64(5)\n",
      "memory usage: 520.4 KB\n"
     ]
    }
   ],
   "source": [
    "df_drop.info()"
   ]
  },
  {
   "cell_type": "code",
   "execution_count": 24,
   "id": "4166552f",
   "metadata": {},
   "outputs": [
    {
     "data": {
      "text/plain": [
       "(total_sqft    0.345345\n",
       " bath          0.548048\n",
       " balcony       4.572072\n",
       " price         0.000000\n",
       " bhk           0.120120\n",
       " dtype: float64,\n",
       " (13320, 5))"
      ]
     },
     "execution_count": 24,
     "metadata": {},
     "output_type": "execute_result"
    }
   ],
   "source": [
    "#checking the null value percentages\n",
    "df_drop.isnull().sum()/df_drop.shape[0]*100, df_drop.shape"
   ]
  },
  {
   "cell_type": "markdown",
   "id": "b60003cd",
   "metadata": {},
   "source": [
    "## There are several approaches to handling missing values in a dataset. Since the missing values are less than one %, we will first remove the row that contains them. "
   ]
  },
  {
   "cell_type": "code",
   "execution_count": 25,
   "id": "a0b7ea32",
   "metadata": {},
   "outputs": [],
   "source": [
    "new_df_drop = df_drop.dropna()"
   ]
  },
  {
   "cell_type": "code",
   "execution_count": 26,
   "id": "884ba32b",
   "metadata": {},
   "outputs": [
    {
     "data": {
      "text/plain": [
       "(total_sqft    0\n",
       " bath          0\n",
       " balcony       0\n",
       " price         0\n",
       " bhk           0\n",
       " dtype: int64,\n",
       " (12669, 5))"
      ]
     },
     "execution_count": 26,
     "metadata": {},
     "output_type": "execute_result"
    }
   ],
   "source": [
    "#checking the missing value after dropping the rows which contains missing value \n",
    "new_df_drop.isnull().sum(),new_df_drop.shape"
   ]
  },
  {
   "cell_type": "markdown",
   "id": "09c687ed",
   "metadata": {},
   "source": [
    "# Now we will perform Feature Engineering to analyze the data"
   ]
  },
  {
   "cell_type": "code",
   "execution_count": 27,
   "id": "1c03251f",
   "metadata": {},
   "outputs": [
    {
     "data": {
      "text/html": [
       "<div>\n",
       "<style scoped>\n",
       "    .dataframe tbody tr th:only-of-type {\n",
       "        vertical-align: middle;\n",
       "    }\n",
       "\n",
       "    .dataframe tbody tr th {\n",
       "        vertical-align: top;\n",
       "    }\n",
       "\n",
       "    .dataframe thead th {\n",
       "        text-align: right;\n",
       "    }\n",
       "</style>\n",
       "<table border=\"1\" class=\"dataframe\">\n",
       "  <thead>\n",
       "    <tr style=\"text-align: right;\">\n",
       "      <th></th>\n",
       "      <th>total_sqft</th>\n",
       "      <th>bath</th>\n",
       "      <th>balcony</th>\n",
       "      <th>price</th>\n",
       "      <th>bhk</th>\n",
       "    </tr>\n",
       "  </thead>\n",
       "  <tbody>\n",
       "    <tr>\n",
       "      <th>count</th>\n",
       "      <td>12669.000000</td>\n",
       "      <td>12669.000000</td>\n",
       "      <td>12669.000000</td>\n",
       "      <td>12669.000000</td>\n",
       "      <td>12669.000000</td>\n",
       "    </tr>\n",
       "    <tr>\n",
       "      <th>mean</th>\n",
       "      <td>1511.842126</td>\n",
       "      <td>2.616308</td>\n",
       "      <td>1.585682</td>\n",
       "      <td>105.951073</td>\n",
       "      <td>2.736443</td>\n",
       "    </tr>\n",
       "    <tr>\n",
       "      <th>std</th>\n",
       "      <td>1162.051672</td>\n",
       "      <td>1.223838</td>\n",
       "      <td>0.816734</td>\n",
       "      <td>131.808053</td>\n",
       "      <td>1.202598</td>\n",
       "    </tr>\n",
       "    <tr>\n",
       "      <th>min</th>\n",
       "      <td>5.000000</td>\n",
       "      <td>1.000000</td>\n",
       "      <td>0.000000</td>\n",
       "      <td>8.000000</td>\n",
       "      <td>1.000000</td>\n",
       "    </tr>\n",
       "    <tr>\n",
       "      <th>25%</th>\n",
       "      <td>1100.000000</td>\n",
       "      <td>2.000000</td>\n",
       "      <td>1.000000</td>\n",
       "      <td>49.020000</td>\n",
       "      <td>2.000000</td>\n",
       "    </tr>\n",
       "    <tr>\n",
       "      <th>50%</th>\n",
       "      <td>1260.000000</td>\n",
       "      <td>2.000000</td>\n",
       "      <td>2.000000</td>\n",
       "      <td>70.000000</td>\n",
       "      <td>3.000000</td>\n",
       "    </tr>\n",
       "    <tr>\n",
       "      <th>75%</th>\n",
       "      <td>1640.000000</td>\n",
       "      <td>3.000000</td>\n",
       "      <td>2.000000</td>\n",
       "      <td>115.000000</td>\n",
       "      <td>3.000000</td>\n",
       "    </tr>\n",
       "    <tr>\n",
       "      <th>max</th>\n",
       "      <td>52272.000000</td>\n",
       "      <td>40.000000</td>\n",
       "      <td>3.000000</td>\n",
       "      <td>2912.000000</td>\n",
       "      <td>43.000000</td>\n",
       "    </tr>\n",
       "  </tbody>\n",
       "</table>\n",
       "</div>"
      ],
      "text/plain": [
       "         total_sqft          bath       balcony         price           bhk\n",
       "count  12669.000000  12669.000000  12669.000000  12669.000000  12669.000000\n",
       "mean    1511.842126      2.616308      1.585682    105.951073      2.736443\n",
       "std     1162.051672      1.223838      0.816734    131.808053      1.202598\n",
       "min        5.000000      1.000000      0.000000      8.000000      1.000000\n",
       "25%     1100.000000      2.000000      1.000000     49.020000      2.000000\n",
       "50%     1260.000000      2.000000      2.000000     70.000000      3.000000\n",
       "75%     1640.000000      3.000000      2.000000    115.000000      3.000000\n",
       "max    52272.000000     40.000000      3.000000   2912.000000     43.000000"
      ]
     },
     "execution_count": 27,
     "metadata": {},
     "output_type": "execute_result"
    }
   ],
   "source": [
    "new_df_drop.describe()"
   ]
  },
  {
   "cell_type": "code",
   "execution_count": 28,
   "id": "cea3714b",
   "metadata": {},
   "outputs": [
    {
     "data": {
      "image/png": "[encoded data removed]",
      "text/plain": [
       "<Figure size 1080x720 with 4 Axes>"
      ]
     },
     "metadata": {
      "needs_background": "light"
     },
     "output_type": "display_data"
    }
   ],
   "source": [
    "# Create a figure and three subplots for each boxplot\n",
    "fig, (ax1, ax2, ax3, ax4) = plt.subplots(ncols=4, figsize=(15,10))\n",
    "\n",
    "# Create the first boxplot for total_sqft\n",
    "ax1.boxplot(new_df_drop['total_sqft'])\n",
    "ax1.set_title('total_sqft 1')\n",
    "\n",
    "# Create the second boxplot for bath \n",
    "ax2.boxplot(new_df_drop['bath'])\n",
    "ax2.set_title('bath')\n",
    "\n",
    "# Create the third boxplot for bhk \n",
    "ax3.boxplot(new_df_drop['bhk'])\n",
    "ax3.set_title('bhk')\n",
    "\n",
    "# Create the fourth boxplot for bhk \n",
    "ax4.boxplot(new_df_drop['balcony'])\n",
    "ax4.set_title('balcony')\n",
    "\n",
    "# Show the plot\n",
    "plt.show()\n"
   ]
  },
  {
   "cell_type": "markdown",
   "id": "d2488108",
   "metadata": {},
   "source": [
    "### The boxplot shows that the dataset has several outliers. Hence, using the quartile approach, we will eliminate the outliers."
   ]
  },
  {
   "cell_type": "code",
   "execution_count": 29,
   "id": "680f9260",
   "metadata": {},
   "outputs": [],
   "source": [
    "def remove_outliers_quartile(new_df_drop, total_sqft):\n",
    "    q1 = new_df_drop[total_sqft].quantile(0.25)\n",
    "    q3 = new_df_drop[total_sqft].quantile(0.75)\n",
    "    iqr = q3 - q1\n",
    "    lower_limit = q1 - 1.5 * iqr\n",
    "    upper_limit = q3 + 1.5 * iqr\n",
    "    df_filtered = new_df_drop[(new_df_drop[total_sqft] > lower_limit) & (new_df_drop[total_sqft] < upper_limit)]\n",
    "    return df_filtered\n",
    "new_df2 = remove_outliers_quartile(new_df_drop, 'total_sqft')"
   ]
  },
  {
   "cell_type": "code",
   "execution_count": 30,
   "id": "bbff34ae",
   "metadata": {},
   "outputs": [
    {
     "name": "stdout",
     "output_type": "stream",
     "text": [
      "1069\n"
     ]
    }
   ],
   "source": [
    "#checking the difference between dataset before and after removing outliers\n",
    "print(len(new_df_drop)-len(new_df2))"
   ]
  },
  {
   "cell_type": "code",
   "execution_count": 31,
   "id": "86d71d28",
   "metadata": {},
   "outputs": [
    {
     "data": {
      "text/html": [
       "<div>\n",
       "<style scoped>\n",
       "    .dataframe tbody tr th:only-of-type {\n",
       "        vertical-align: middle;\n",
       "    }\n",
       "\n",
       "    .dataframe tbody tr th {\n",
       "        vertical-align: top;\n",
       "    }\n",
       "\n",
       "    .dataframe thead th {\n",
       "        text-align: right;\n",
       "    }\n",
       "</style>\n",
       "<table border=\"1\" class=\"dataframe\">\n",
       "  <thead>\n",
       "    <tr style=\"text-align: right;\">\n",
       "      <th></th>\n",
       "      <th>total_sqft</th>\n",
       "      <th>bath</th>\n",
       "      <th>balcony</th>\n",
       "      <th>price</th>\n",
       "      <th>bhk</th>\n",
       "    </tr>\n",
       "  </thead>\n",
       "  <tbody>\n",
       "    <tr>\n",
       "      <th>count</th>\n",
       "      <td>11600.000000</td>\n",
       "      <td>11600.000000</td>\n",
       "      <td>11600.000000</td>\n",
       "      <td>11600.000000</td>\n",
       "      <td>11600.000000</td>\n",
       "    </tr>\n",
       "    <tr>\n",
       "      <th>mean</th>\n",
       "      <td>1303.787690</td>\n",
       "      <td>2.452155</td>\n",
       "      <td>1.561293</td>\n",
       "      <td>83.784819</td>\n",
       "      <td>2.606983</td>\n",
       "    </tr>\n",
       "    <tr>\n",
       "      <th>std</th>\n",
       "      <td>393.268536</td>\n",
       "      <td>1.053179</td>\n",
       "      <td>0.794759</td>\n",
       "      <td>64.904288</td>\n",
       "      <td>1.093335</td>\n",
       "    </tr>\n",
       "    <tr>\n",
       "      <th>min</th>\n",
       "      <td>296.000000</td>\n",
       "      <td>1.000000</td>\n",
       "      <td>0.000000</td>\n",
       "      <td>9.000000</td>\n",
       "      <td>1.000000</td>\n",
       "    </tr>\n",
       "    <tr>\n",
       "      <th>25%</th>\n",
       "      <td>1075.750000</td>\n",
       "      <td>2.000000</td>\n",
       "      <td>1.000000</td>\n",
       "      <td>47.552500</td>\n",
       "      <td>2.000000</td>\n",
       "    </tr>\n",
       "    <tr>\n",
       "      <th>50%</th>\n",
       "      <td>1225.000000</td>\n",
       "      <td>2.000000</td>\n",
       "      <td>2.000000</td>\n",
       "      <td>65.000000</td>\n",
       "      <td>2.000000</td>\n",
       "    </tr>\n",
       "    <tr>\n",
       "      <th>75%</th>\n",
       "      <td>1510.250000</td>\n",
       "      <td>3.000000</td>\n",
       "      <td>2.000000</td>\n",
       "      <td>97.682500</td>\n",
       "      <td>3.000000</td>\n",
       "    </tr>\n",
       "    <tr>\n",
       "      <th>max</th>\n",
       "      <td>2448.000000</td>\n",
       "      <td>40.000000</td>\n",
       "      <td>3.000000</td>\n",
       "      <td>1063.000000</td>\n",
       "      <td>43.000000</td>\n",
       "    </tr>\n",
       "  </tbody>\n",
       "</table>\n",
       "</div>"
      ],
      "text/plain": [
       "         total_sqft          bath       balcony         price           bhk\n",
       "count  11600.000000  11600.000000  11600.000000  11600.000000  11600.000000\n",
       "mean    1303.787690      2.452155      1.561293     83.784819      2.606983\n",
       "std      393.268536      1.053179      0.794759     64.904288      1.093335\n",
       "min      296.000000      1.000000      0.000000      9.000000      1.000000\n",
       "25%     1075.750000      2.000000      1.000000     47.552500      2.000000\n",
       "50%     1225.000000      2.000000      2.000000     65.000000      2.000000\n",
       "75%     1510.250000      3.000000      2.000000     97.682500      3.000000\n",
       "max     2448.000000     40.000000      3.000000   1063.000000     43.000000"
      ]
     },
     "execution_count": 31,
     "metadata": {},
     "output_type": "execute_result"
    }
   ],
   "source": [
    "new_df2.describe()"
   ]
  },
  {
   "cell_type": "code",
   "execution_count": 32,
   "id": "b11e7e40",
   "metadata": {},
   "outputs": [],
   "source": [
    "def remove_outliers_quartile(new_df2, bath):\n",
    "    q1 = new_df2[bath].quantile(0.25)\n",
    "    q3 = new_df2[bath].quantile(0.75)\n",
    "    iqr = q3 - q1\n",
    "    lower_limit = q1 - 1.5 * iqr\n",
    "    upper_limit = q3 + 1.5 * iqr\n",
    "    df1_filtered = new_df2[(new_df2[bath] >= lower_limit) & (new_df2[bath] <= upper_limit)]\n",
    "    return df1_filtered\n",
    "new_df3 = remove_outliers_quartile(new_df2, 'bath')"
   ]
  },
  {
   "cell_type": "code",
   "execution_count": 33,
   "id": "17690444",
   "metadata": {},
   "outputs": [
    {
     "name": "stdout",
     "output_type": "stream",
     "text": [
      "416\n"
     ]
    }
   ],
   "source": [
    "print(len(new_df2)-len(new_df3))"
   ]
  },
  {
   "cell_type": "code",
   "execution_count": 34,
   "id": "273372a3",
   "metadata": {},
   "outputs": [
    {
     "data": {
      "text/html": [
       "<div>\n",
       "<style scoped>\n",
       "    .dataframe tbody tr th:only-of-type {\n",
       "        vertical-align: middle;\n",
       "    }\n",
       "\n",
       "    .dataframe tbody tr th {\n",
       "        vertical-align: top;\n",
       "    }\n",
       "\n",
       "    .dataframe thead th {\n",
       "        text-align: right;\n",
       "    }\n",
       "</style>\n",
       "<table border=\"1\" class=\"dataframe\">\n",
       "  <thead>\n",
       "    <tr style=\"text-align: right;\">\n",
       "      <th></th>\n",
       "      <th>total_sqft</th>\n",
       "      <th>bath</th>\n",
       "      <th>balcony</th>\n",
       "      <th>price</th>\n",
       "      <th>bhk</th>\n",
       "    </tr>\n",
       "  </thead>\n",
       "  <tbody>\n",
       "    <tr>\n",
       "      <th>count</th>\n",
       "      <td>11184.000000</td>\n",
       "      <td>11184.000000</td>\n",
       "      <td>11184.000000</td>\n",
       "      <td>11184.000000</td>\n",
       "      <td>11184.000000</td>\n",
       "    </tr>\n",
       "    <tr>\n",
       "      <th>mean</th>\n",
       "      <td>1298.358477</td>\n",
       "      <td>2.317418</td>\n",
       "      <td>1.552307</td>\n",
       "      <td>79.949964</td>\n",
       "      <td>2.480866</td>\n",
       "    </tr>\n",
       "    <tr>\n",
       "      <th>std</th>\n",
       "      <td>384.475150</td>\n",
       "      <td>0.691873</td>\n",
       "      <td>0.785464</td>\n",
       "      <td>58.556830</td>\n",
       "      <td>0.760976</td>\n",
       "    </tr>\n",
       "    <tr>\n",
       "      <th>min</th>\n",
       "      <td>296.000000</td>\n",
       "      <td>1.000000</td>\n",
       "      <td>0.000000</td>\n",
       "      <td>9.000000</td>\n",
       "      <td>1.000000</td>\n",
       "    </tr>\n",
       "    <tr>\n",
       "      <th>25%</th>\n",
       "      <td>1075.000000</td>\n",
       "      <td>2.000000</td>\n",
       "      <td>1.000000</td>\n",
       "      <td>47.000000</td>\n",
       "      <td>2.000000</td>\n",
       "    </tr>\n",
       "    <tr>\n",
       "      <th>50%</th>\n",
       "      <td>1225.000000</td>\n",
       "      <td>2.000000</td>\n",
       "      <td>2.000000</td>\n",
       "      <td>65.000000</td>\n",
       "      <td>2.000000</td>\n",
       "    </tr>\n",
       "    <tr>\n",
       "      <th>75%</th>\n",
       "      <td>1500.000000</td>\n",
       "      <td>3.000000</td>\n",
       "      <td>2.000000</td>\n",
       "      <td>94.000000</td>\n",
       "      <td>3.000000</td>\n",
       "    </tr>\n",
       "    <tr>\n",
       "      <th>max</th>\n",
       "      <td>2448.000000</td>\n",
       "      <td>4.000000</td>\n",
       "      <td>3.000000</td>\n",
       "      <td>1063.000000</td>\n",
       "      <td>8.000000</td>\n",
       "    </tr>\n",
       "  </tbody>\n",
       "</table>\n",
       "</div>"
      ],
      "text/plain": [
       "         total_sqft          bath       balcony         price           bhk\n",
       "count  11184.000000  11184.000000  11184.000000  11184.000000  11184.000000\n",
       "mean    1298.358477      2.317418      1.552307     79.949964      2.480866\n",
       "std      384.475150      0.691873      0.785464     58.556830      0.760976\n",
       "min      296.000000      1.000000      0.000000      9.000000      1.000000\n",
       "25%     1075.000000      2.000000      1.000000     47.000000      2.000000\n",
       "50%     1225.000000      2.000000      2.000000     65.000000      2.000000\n",
       "75%     1500.000000      3.000000      2.000000     94.000000      3.000000\n",
       "max     2448.000000      4.000000      3.000000   1063.000000      8.000000"
      ]
     },
     "execution_count": 34,
     "metadata": {},
     "output_type": "execute_result"
    }
   ],
   "source": [
    "new_df3.describe()"
   ]
  },
  {
   "cell_type": "code",
   "execution_count": 35,
   "id": "359d45f5",
   "metadata": {},
   "outputs": [
    {
     "name": "stderr",
     "output_type": "stream",
     "text": [
      "<ipython-input-35-dacd3cf1bf52>:7: UserWarning: Boolean Series key will be reindexed to match DataFrame index.\n",
      "  df2_filtered = new_df3[(new_df2[bhk] >= lower_limit) & (new_df3[bhk] <= upper_limit)]\n"
     ]
    }
   ],
   "source": [
    "def remove_outliers_quartile(new_df3, bhk):\n",
    "    q1 = new_df3[bhk].quantile(0.25)\n",
    "    q3 = new_df3[bhk].quantile(0.75)\n",
    "    iqr = q3 - q1\n",
    "    lower_limit = q1 - 1.5 * iqr\n",
    "    upper_limit = q3 + 1.5 * iqr\n",
    "    df2_filtered = new_df3[(new_df2[bhk] >= lower_limit) & (new_df3[bhk] <= upper_limit)]\n",
    "    return df2_filtered\n",
    "new_df4 = remove_outliers_quartile(new_df3, 'bhk')"
   ]
  },
  {
   "cell_type": "code",
   "execution_count": 36,
   "id": "6fbd0c92",
   "metadata": {},
   "outputs": [
    {
     "name": "stdout",
     "output_type": "stream",
     "text": [
      "144\n"
     ]
    }
   ],
   "source": [
    "print(len(new_df3)-len(new_df4))"
   ]
  },
  {
   "cell_type": "code",
   "execution_count": 37,
   "id": "17ea9613",
   "metadata": {},
   "outputs": [
    {
     "data": {
      "text/html": [
       "<div>\n",
       "<style scoped>\n",
       "    .dataframe tbody tr th:only-of-type {\n",
       "        vertical-align: middle;\n",
       "    }\n",
       "\n",
       "    .dataframe tbody tr th {\n",
       "        vertical-align: top;\n",
       "    }\n",
       "\n",
       "    .dataframe thead th {\n",
       "        text-align: right;\n",
       "    }\n",
       "</style>\n",
       "<table border=\"1\" class=\"dataframe\">\n",
       "  <thead>\n",
       "    <tr style=\"text-align: right;\">\n",
       "      <th></th>\n",
       "      <th>total_sqft</th>\n",
       "      <th>bath</th>\n",
       "      <th>balcony</th>\n",
       "      <th>price</th>\n",
       "      <th>bhk</th>\n",
       "    </tr>\n",
       "  </thead>\n",
       "  <tbody>\n",
       "    <tr>\n",
       "      <th>count</th>\n",
       "      <td>11040.000000</td>\n",
       "      <td>11040.000000</td>\n",
       "      <td>11040.000000</td>\n",
       "      <td>11040.000000</td>\n",
       "      <td>11040.000000</td>\n",
       "    </tr>\n",
       "    <tr>\n",
       "      <th>mean</th>\n",
       "      <td>1298.128551</td>\n",
       "      <td>2.299185</td>\n",
       "      <td>1.553170</td>\n",
       "      <td>78.819873</td>\n",
       "      <td>2.442029</td>\n",
       "    </tr>\n",
       "    <tr>\n",
       "      <th>std</th>\n",
       "      <td>382.265592</td>\n",
       "      <td>0.675077</td>\n",
       "      <td>0.783283</td>\n",
       "      <td>56.716331</td>\n",
       "      <td>0.679764</td>\n",
       "    </tr>\n",
       "    <tr>\n",
       "      <th>min</th>\n",
       "      <td>296.000000</td>\n",
       "      <td>1.000000</td>\n",
       "      <td>0.000000</td>\n",
       "      <td>9.000000</td>\n",
       "      <td>1.000000</td>\n",
       "    </tr>\n",
       "    <tr>\n",
       "      <th>25%</th>\n",
       "      <td>1076.000000</td>\n",
       "      <td>2.000000</td>\n",
       "      <td>1.000000</td>\n",
       "      <td>46.500000</td>\n",
       "      <td>2.000000</td>\n",
       "    </tr>\n",
       "    <tr>\n",
       "      <th>50%</th>\n",
       "      <td>1229.000000</td>\n",
       "      <td>2.000000</td>\n",
       "      <td>2.000000</td>\n",
       "      <td>65.000000</td>\n",
       "      <td>2.000000</td>\n",
       "    </tr>\n",
       "    <tr>\n",
       "      <th>75%</th>\n",
       "      <td>1500.000000</td>\n",
       "      <td>3.000000</td>\n",
       "      <td>2.000000</td>\n",
       "      <td>92.000000</td>\n",
       "      <td>3.000000</td>\n",
       "    </tr>\n",
       "    <tr>\n",
       "      <th>max</th>\n",
       "      <td>2448.000000</td>\n",
       "      <td>4.000000</td>\n",
       "      <td>3.000000</td>\n",
       "      <td>1063.000000</td>\n",
       "      <td>4.000000</td>\n",
       "    </tr>\n",
       "  </tbody>\n",
       "</table>\n",
       "</div>"
      ],
      "text/plain": [
       "         total_sqft          bath       balcony         price           bhk\n",
       "count  11040.000000  11040.000000  11040.000000  11040.000000  11040.000000\n",
       "mean    1298.128551      2.299185      1.553170     78.819873      2.442029\n",
       "std      382.265592      0.675077      0.783283     56.716331      0.679764\n",
       "min      296.000000      1.000000      0.000000      9.000000      1.000000\n",
       "25%     1076.000000      2.000000      1.000000     46.500000      2.000000\n",
       "50%     1229.000000      2.000000      2.000000     65.000000      2.000000\n",
       "75%     1500.000000      3.000000      2.000000     92.000000      3.000000\n",
       "max     2448.000000      4.000000      3.000000   1063.000000      4.000000"
      ]
     },
     "execution_count": 37,
     "metadata": {},
     "output_type": "execute_result"
    }
   ],
   "source": [
    "new_df4.describe()"
   ]
  },
  {
   "cell_type": "code",
   "execution_count": 38,
   "id": "31a88a1d",
   "metadata": {},
   "outputs": [
    {
     "name": "stdout",
     "output_type": "stream",
     "text": [
      "<class 'pandas.core.frame.DataFrame'>\n",
      "Int64Index: 11040 entries, 0 to 13319\n",
      "Data columns (total 5 columns):\n",
      " #   Column      Non-Null Count  Dtype  \n",
      "---  ------      --------------  -----  \n",
      " 0   total_sqft  11040 non-null  float64\n",
      " 1   bath        11040 non-null  float64\n",
      " 2   balcony     11040 non-null  float64\n",
      " 3   price       11040 non-null  float64\n",
      " 4   bhk         11040 non-null  float64\n",
      "dtypes: float64(5)\n",
      "memory usage: 517.5 KB\n"
     ]
    }
   ],
   "source": [
    "new_df4.info()"
   ]
  },
  {
   "cell_type": "code",
   "execution_count": 39,
   "id": "bbbe690a",
   "metadata": {},
   "outputs": [
    {
     "data": {
      "image/png": "[encoded data removed]",
      "text/plain": [
       "<Figure size 1080x720 with 4 Axes>"
      ]
     },
     "metadata": {
      "needs_background": "light"
     },
     "output_type": "display_data"
    }
   ],
   "source": [
    "colors = ['pink', 'lightblue', 'lightgreen', 'yellow']\n",
    "# Create a figure and three subplots for each boxplot\n",
    "fig, (ax1, ax2, ax3, ax4) = plt.subplots(ncols=4, figsize=(15,10))\n",
    "\n",
    "# Create the first boxplot for total_sqft\n",
    "ax1.boxplot(new_df4['total_sqft'])\n",
    "ax1.set_title('total_sqft 1')\n",
    "\n",
    "# Create the second boxplot for bath \n",
    "ax2.boxplot(new_df4['bath'])\n",
    "ax2.set_title('bath')\n",
    "\n",
    "# Create the third boxplot for bhk \n",
    "ax3.boxplot(new_df4['bhk'])\n",
    "ax3.set_title('bhk')\n",
    "\n",
    "# Create the fourth boxplot for bhk \n",
    "ax4.boxplot(new_df4['balcony'])\n",
    "ax4.set_title('balcony')\n",
    "\n",
    "# Show the plot\n",
    "plt.show()\n"
   ]
  },
  {
   "cell_type": "code",
   "execution_count": 40,
   "id": "2bf88abe",
   "metadata": {},
   "outputs": [],
   "source": [
    "#after the preprocessing of data saving the cleaned data into csv\n",
    "new_df4.to_csv(\"cleaned_dataset.csv\")"
   ]
  },
  {
   "cell_type": "code",
   "execution_count": 41,
   "id": "da549617",
   "metadata": {},
   "outputs": [],
   "source": [
    "Cleaned_data_ML = pd.read_csv('cleaned_dataset.csv')"
   ]
  },
  {
   "cell_type": "code",
   "execution_count": 42,
   "id": "be5ad281",
   "metadata": {},
   "outputs": [
    {
     "data": {
      "text/plain": [
       "(   Unnamed: 0  total_sqft  bath  balcony  price  bhk\n",
       " 0           0      1056.0   2.0      1.0  39.07  2.0\n",
       " 1           2      1440.0   2.0      3.0  62.00  3.0\n",
       " 2           3      1521.0   3.0      1.0  95.00  3.0\n",
       " 3           4      1200.0   2.0      1.0  51.00  2.0\n",
       " 4           5      1170.0   2.0      1.0  38.00  2.0,\n",
       " (11040, 6))"
      ]
     },
     "execution_count": 42,
     "metadata": {},
     "output_type": "execute_result"
    }
   ],
   "source": [
    "Cleaned_data_ML.head(),Cleaned_data_ML.shape"
   ]
  },
  {
   "cell_type": "markdown",
   "id": "fabd0da1",
   "metadata": {},
   "source": [
    "# Model training and Evaluation\n",
    "### Splitting cleaned dataset into training and testing dataset and performing ML algorithim "
   ]
  },
  {
   "cell_type": "code",
   "execution_count": 43,
   "id": "a78c4edd",
   "metadata": {},
   "outputs": [],
   "source": [
    "x = Cleaned_data_ML[['total_sqft','bath','bhk']]\n",
    "y = Cleaned_data_ML['price']"
   ]
  },
  {
   "cell_type": "code",
   "execution_count": 150,
   "id": "851c1a07",
   "metadata": {},
   "outputs": [],
   "source": [
    "#importing all the necessary libraries to perform the ML task\n",
    "from sklearn.model_selection import train_test_split\n",
    "from sklearn.linear_model import LinearRegression, Lasso, Ridge\n",
    "from sklearn.preprocessing import StandardScaler\n",
    "from sklearn.pipeline import make_pipeline\n",
    "from sklearn.metrics import r2_score\n",
    "from sklearn.metrics import mean_squared_error\n",
    "from sklearn.metrics import mean_absolute_error"
   ]
  },
  {
   "cell_type": "code",
   "execution_count": 45,
   "id": "d5acee94",
   "metadata": {},
   "outputs": [],
   "source": [
    "#splitting the dataset into train, test and split \n",
    "x_train,x_test,y_train,y_test = train_test_split(x, y, test_size=0.25, random_state=10)"
   ]
  },
  {
   "cell_type": "code",
   "execution_count": 46,
   "id": "c4797311",
   "metadata": {},
   "outputs": [],
   "source": [
    "#standardize the numerical variables\n",
    "scaler = StandardScaler()"
   ]
  },
  {
   "cell_type": "code",
   "execution_count": 47,
   "id": "fb75b649",
   "metadata": {},
   "outputs": [],
   "source": [
    "lr = LinearRegression(normalize=True)"
   ]
  },
  {
   "cell_type": "code",
   "execution_count": 48,
   "id": "83d257ee",
   "metadata": {},
   "outputs": [],
   "source": [
    "#chain multiple preprocessing and modeling steps into a single pipeline\n",
    "pipe1 = make_pipeline(scaler, lr)"
   ]
  },
  {
   "cell_type": "code",
   "execution_count": 49,
   "id": "b6403760",
   "metadata": {},
   "outputs": [
    {
     "data": {
      "text/plain": [
       "Pipeline(steps=[('standardscaler', StandardScaler()),\n",
       "                ('linearregression', LinearRegression(normalize=True))])"
      ]
     },
     "execution_count": 49,
     "metadata": {},
     "output_type": "execute_result"
    }
   ],
   "source": [
    "#training a machine learning model using a pipeline that preprocesses the data and trains the model\n",
    "pipe1.fit(x_train,y_train)"
   ]
  },
  {
   "cell_type": "code",
   "execution_count": 50,
   "id": "1725e788",
   "metadata": {},
   "outputs": [
    {
     "data": {
      "text/plain": [
       "0.3681278598186021"
      ]
     },
     "execution_count": 50,
     "metadata": {},
     "output_type": "execute_result"
    }
   ],
   "source": [
    "# evaluating a linear regression model's performance on a set of test data\n",
    "y_prediction_lr = list(pipe1.predict(x_test))\n",
    "r2_score(y_test, y_prediction_lr)"
   ]
  },
  {
   "cell_type": "code",
   "execution_count": 152,
   "id": "12539c9d",
   "metadata": {},
   "outputs": [
    {
     "name": "stdout",
     "output_type": "stream",
     "text": [
      "Mean Squared Error: 2364.07918526366\n",
      "Mean Absolute Error: 25.551984330023163\n"
     ]
    }
   ],
   "source": [
    "# Evaluate the model using mean squared error and mean absolute errro\n",
    "mse_lr = mean_squared_error(y_test, y_prediction_lr)\n",
    "mae_lr = mean_absolute_error(y_test, y_prediction_lr)\n",
    "print(\"Mean Squared Error:\", mse_lr)\n",
    "print(\"Mean Absolute Error:\", mae_lr)"
   ]
  },
  {
   "cell_type": "code",
   "execution_count": 52,
   "id": "6ed9e156",
   "metadata": {},
   "outputs": [],
   "source": [
    "#creating an instance of the Lasso class from the Scikit-learn library.\n",
    "ls = Lasso()"
   ]
  },
  {
   "cell_type": "code",
   "execution_count": 53,
   "id": "f3d95d2e",
   "metadata": {},
   "outputs": [],
   "source": [
    "pipe2 = make_pipeline(scaler, ls)"
   ]
  },
  {
   "cell_type": "code",
   "execution_count": 54,
   "id": "ea38992f",
   "metadata": {},
   "outputs": [
    {
     "data": {
      "text/plain": [
       "Pipeline(steps=[('standardscaler', StandardScaler()), ('lasso', Lasso())])"
      ]
     },
     "execution_count": 54,
     "metadata": {},
     "output_type": "execute_result"
    }
   ],
   "source": [
    "pipe2.fit(x_train,y_train)"
   ]
  },
  {
   "cell_type": "code",
   "execution_count": 55,
   "id": "2e37553c",
   "metadata": {},
   "outputs": [
    {
     "data": {
      "text/plain": [
       "0.3657727833247495"
      ]
     },
     "execution_count": 55,
     "metadata": {},
     "output_type": "execute_result"
    }
   ],
   "source": [
    "y_prediction_ls = list(pipe2.predict(x_test))\n",
    "r2_score(y_test, y_prediction_ls)"
   ]
  },
  {
   "cell_type": "code",
   "execution_count": 153,
   "id": "791246ee",
   "metadata": {},
   "outputs": [
    {
     "name": "stdout",
     "output_type": "stream",
     "text": [
      "Mean Squared Error: 2372.8904414732183\n",
      "Mean Absolute Error: 25.450137790801428\n"
     ]
    }
   ],
   "source": [
    "# Evaluate the model using mean squared error and mean absolute errro\n",
    "mse_ls = mean_squared_error(y_test, y_prediction_ls)\n",
    "mae_ls = mean_absolute_error(y_test, y_prediction_ls)\n",
    "print(\"Mean Squared Error:\", mse_ls)\n",
    "print(\"Mean Absolute Error:\", mae_ls)"
   ]
  },
  {
   "cell_type": "code",
   "execution_count": 56,
   "id": "cccaaf1c",
   "metadata": {},
   "outputs": [],
   "source": [
    "##creating an instance of the ridge class from the Scikit-learn library.\n",
    "rg = Ridge()"
   ]
  },
  {
   "cell_type": "code",
   "execution_count": 57,
   "id": "fff2d7ea",
   "metadata": {},
   "outputs": [],
   "source": [
    "pipe3 = make_pipeline(scaler, rg)"
   ]
  },
  {
   "cell_type": "code",
   "execution_count": 58,
   "id": "dc11da69",
   "metadata": {},
   "outputs": [
    {
     "data": {
      "text/plain": [
       "Pipeline(steps=[('standardscaler', StandardScaler()), ('ridge', Ridge())])"
      ]
     },
     "execution_count": 58,
     "metadata": {},
     "output_type": "execute_result"
    }
   ],
   "source": [
    "pipe3.fit(x_train,y_train)"
   ]
  },
  {
   "cell_type": "code",
   "execution_count": 59,
   "id": "d40340d5",
   "metadata": {},
   "outputs": [
    {
     "data": {
      "text/plain": [
       "0.36812611148627994"
      ]
     },
     "execution_count": 59,
     "metadata": {},
     "output_type": "execute_result"
    }
   ],
   "source": [
    "y_prediction_rg = list(pipe3.predict(x_test))\n",
    "r2_score(y_test, y_prediction_rg)"
   ]
  },
  {
   "cell_type": "code",
   "execution_count": 154,
   "id": "1cd7e5a0",
   "metadata": {},
   "outputs": [
    {
     "name": "stdout",
     "output_type": "stream",
     "text": [
      "Mean Squared Error: 2364.0857264541773\n",
      "Mean Absolute Error: 25.551698405786127\n"
     ]
    }
   ],
   "source": [
    "# Evaluate the model using mean squared error and mean absolute errro\n",
    "mse_rg = mean_squared_error(y_test, y_prediction_rg)\n",
    "mae_rg = mean_absolute_error(y_test, y_prediction_rg)\n",
    "print(\"Mean Squared Error:\", mse_rg)\n",
    "print(\"Mean Absolute Error:\", mae_rg)"
   ]
  },
  {
   "cell_type": "code",
   "execution_count": 60,
   "id": "3bbfd6e3",
   "metadata": {},
   "outputs": [],
   "source": [
    "from sklearn.svm import SVR\n",
    "model = SVR()"
   ]
  },
  {
   "cell_type": "code",
   "execution_count": 61,
   "id": "86547d5b",
   "metadata": {},
   "outputs": [],
   "source": [
    "pipe4 = make_pipeline(scaler, model)"
   ]
  },
  {
   "cell_type": "code",
   "execution_count": 62,
   "id": "c43e270e",
   "metadata": {},
   "outputs": [
    {
     "data": {
      "text/plain": [
       "Pipeline(steps=[('standardscaler', StandardScaler()), ('svr', SVR())])"
      ]
     },
     "execution_count": 62,
     "metadata": {},
     "output_type": "execute_result"
    }
   ],
   "source": [
    "pipe4.fit(x_train,y_train)"
   ]
  },
  {
   "cell_type": "code",
   "execution_count": 155,
   "id": "75b6f625",
   "metadata": {},
   "outputs": [],
   "source": [
    "y_prediction_svr = list(pipe4.predict(x_test))"
   ]
  },
  {
   "cell_type": "code",
   "execution_count": 63,
   "id": "24e461db",
   "metadata": {},
   "outputs": [
    {
     "data": {
      "text/plain": [
       "0.3654223457914143"
      ]
     },
     "execution_count": 63,
     "metadata": {},
     "output_type": "execute_result"
    }
   ],
   "source": [
    "pipe4.score(x_test,y_test)"
   ]
  },
  {
   "cell_type": "code",
   "execution_count": 156,
   "id": "07d8555b",
   "metadata": {},
   "outputs": [
    {
     "name": "stdout",
     "output_type": "stream",
     "text": [
      "Mean Squared Error: 2374.2015644451144\n",
      "Mean Absolute Error: 22.191188212051728\n"
     ]
    }
   ],
   "source": [
    "# Evaluate the model using mean squared error and mean absolute errro \n",
    "mse_svr = mean_squared_error(y_test, y_prediction_svr)\n",
    "mae_svr = mean_absolute_error(y_test, y_prediction_svr)\n",
    "print(\"Mean Squared Error:\", mse_svr)\n",
    "print(\"Mean Absolute Error:\", mae_svr)"
   ]
  },
  {
   "cell_type": "code",
   "execution_count": 64,
   "id": "0c6406f0",
   "metadata": {},
   "outputs": [],
   "source": [
    "from sklearn.ensemble import RandomForestRegressor"
   ]
  },
  {
   "cell_type": "code",
   "execution_count": 65,
   "id": "df104508",
   "metadata": {},
   "outputs": [],
   "source": [
    "rf = RandomForestRegressor()"
   ]
  },
  {
   "cell_type": "code",
   "execution_count": 66,
   "id": "95b23687",
   "metadata": {},
   "outputs": [],
   "source": [
    "pipe5 = make_pipeline(scaler, rf)"
   ]
  },
  {
   "cell_type": "code",
   "execution_count": 67,
   "id": "930b32f6",
   "metadata": {},
   "outputs": [
    {
     "data": {
      "text/plain": [
       "Pipeline(steps=[('standardscaler', StandardScaler()),\n",
       "                ('randomforestregressor', RandomForestRegressor())])"
      ]
     },
     "execution_count": 67,
     "metadata": {},
     "output_type": "execute_result"
    }
   ],
   "source": [
    "pipe5.fit(x_train,y_train)"
   ]
  },
  {
   "cell_type": "code",
   "execution_count": 157,
   "id": "55577c3f",
   "metadata": {},
   "outputs": [],
   "source": [
    "y_prediction_rf = list(pipe5.predict(x_test))"
   ]
  },
  {
   "cell_type": "code",
   "execution_count": 158,
   "id": "08cc23cf",
   "metadata": {},
   "outputs": [
    {
     "data": {
      "text/plain": [
       "0.44325452268412735"
      ]
     },
     "execution_count": 158,
     "metadata": {},
     "output_type": "execute_result"
    }
   ],
   "source": [
    "pipe5.score(x_test,y_test)"
   ]
  },
  {
   "cell_type": "code",
   "execution_count": 159,
   "id": "bf00f521",
   "metadata": {},
   "outputs": [
    {
     "name": "stdout",
     "output_type": "stream",
     "text": [
      "Mean Squared Error: 2083.001149622269\n",
      "Mean Absolute Error: 21.803856542702494\n"
     ]
    }
   ],
   "source": [
    "# Evaluate the model using mean squared error and mean absolute errro\n",
    "mse_rf = mean_squared_error(y_test, y_prediction_rf)\n",
    "mae_rf = mean_absolute_error(y_test, y_prediction_rf)\n",
    "print(\"Mean Squared Error:\", mse_rf)\n",
    "print(\"Mean Absolute Error:\", mae_rf)"
   ]
  },
  {
   "cell_type": "markdown",
   "id": "b154c001",
   "metadata": {},
   "source": [
    "# Conclusion"
   ]
  },
  {
   "cell_type": "code",
   "execution_count": 69,
   "id": "1a79a06e",
   "metadata": {},
   "outputs": [
    {
     "name": "stdout",
     "output_type": "stream",
     "text": [
      "LinearRegression Accuracy: 0.3681278598186021\n",
      "Lasso Accuracy: 0.3657727833247495\n",
      "Ridge Accuracy: 0.36812611148627994\n",
      "Support Vector Regressor Accuracy: 0.3654223457914143\n",
      "RandomForest Regressor Accuracy: 0.44325452268412735\n"
     ]
    }
   ],
   "source": [
    "print('LinearRegression Accuracy:', r2_score(y_test, y_prediction_lr))\n",
    "print('Lasso Accuracy:', r2_score(y_test, y_prediction_ls))\n",
    "print('Ridge Accuracy:', r2_score(y_test, y_prediction_rg))\n",
    "\n",
    "print('Support Vector Regressor Accuracy:', pipe4.score(x_test,y_test))\n",
    "print('RandomForest Regressor Accuracy:', pipe5.score(x_test,y_test))"
   ]
  },
  {
   "cell_type": "code",
   "execution_count": 161,
   "id": "7b6b02e8",
   "metadata": {},
   "outputs": [
    {
     "name": "stdout",
     "output_type": "stream",
     "text": [
      "Mean Squared Error Linear Regression: 2364.07918526366\n",
      "Mean Absolute Error Linear Regression: 25.551984330023163\n",
      "\n",
      "Mean Squared Error Lasso: 2372.8904414732183\n",
      "Mean Absolute Error Lasso: 25.450137790801428\n",
      "\n",
      "Mean Squared Error Ridge: 2364.0857264541773\n",
      "Mean Absolute Error Ridge: 25.551698405786127\n",
      "\n",
      "Mean Squared Error Support Vector Regressor: 2374.2015644451144\n",
      "Mean Absolute Error Support Vector Regressor: 22.191188212051728\n",
      "\n",
      "Mean Squared Error Random Forest: 2083.001149622269\n",
      "Mean Absolute ErrorRandom Forest: 21.803856542702494\n"
     ]
    }
   ],
   "source": [
    "print(\"Mean Squared Error Linear Regression:\", mse_lr)\n",
    "print(\"Mean Absolute Error Linear Regression:\", mae_lr)\n",
    "print()\n",
    "print(\"Mean Squared Error Lasso:\", mse_ls)\n",
    "print(\"Mean Absolute Error Lasso:\", mae_ls)\n",
    "print()\n",
    "print(\"Mean Squared Error Ridge:\", mse_rg)\n",
    "print(\"Mean Absolute Error Ridge:\", mae_rg)\n",
    "print()\n",
    "print(\"Mean Squared Error Support Vector Regressor:\", mse_svr)\n",
    "print(\"Mean Absolute Error Support Vector Regressor:\", mae_svr)\n",
    "print()\n",
    "print(\"Mean Squared Error Random Forest:\", mse_rf)\n",
    "print(\"Mean Absolute ErrorRandom Forest:\", mae_rf)"
   ]
  },
  {
   "cell_type": "markdown",
   "id": "45318b1c",
   "metadata": {},
   "source": [
    "## We feel embarrassed after seeing the results because the models' accuracy is so poor. As a result, we will preprocess the data once again but in a different way. We will now take into account the location as it is important in determining the price of the house. Also, we should tackle outliers in a different manner."
   ]
  },
  {
   "cell_type": "markdown",
   "id": "7d0c8b62",
   "metadata": {},
   "source": [
    "# Data Preprocessig, Cleaning and Exploratry Analysis "
   ]
  },
  {
   "cell_type": "code",
   "execution_count": 70,
   "id": "f15b0927",
   "metadata": {},
   "outputs": [
    {
     "data": {
      "text/html": [
       "<div>\n",
       "<style scoped>\n",
       "    .dataframe tbody tr th:only-of-type {\n",
       "        vertical-align: middle;\n",
       "    }\n",
       "\n",
       "    .dataframe tbody tr th {\n",
       "        vertical-align: top;\n",
       "    }\n",
       "\n",
       "    .dataframe thead th {\n",
       "        text-align: right;\n",
       "    }\n",
       "</style>\n",
       "<table border=\"1\" class=\"dataframe\">\n",
       "  <thead>\n",
       "    <tr style=\"text-align: right;\">\n",
       "      <th></th>\n",
       "      <th>area_type</th>\n",
       "      <th>availability</th>\n",
       "      <th>location</th>\n",
       "      <th>size</th>\n",
       "      <th>society</th>\n",
       "      <th>total_sqft</th>\n",
       "      <th>bath</th>\n",
       "      <th>balcony</th>\n",
       "      <th>price</th>\n",
       "    </tr>\n",
       "  </thead>\n",
       "  <tbody>\n",
       "    <tr>\n",
       "      <th>0</th>\n",
       "      <td>Super built-up  Area</td>\n",
       "      <td>19-Dec</td>\n",
       "      <td>Electronic City Phase II</td>\n",
       "      <td>2 BHK</td>\n",
       "      <td>Coomee</td>\n",
       "      <td>1056</td>\n",
       "      <td>2.0</td>\n",
       "      <td>1.0</td>\n",
       "      <td>39.07</td>\n",
       "    </tr>\n",
       "    <tr>\n",
       "      <th>1</th>\n",
       "      <td>Plot  Area</td>\n",
       "      <td>Ready To Move</td>\n",
       "      <td>Chikka Tirupathi</td>\n",
       "      <td>4 Bedroom</td>\n",
       "      <td>Theanmp</td>\n",
       "      <td>2600</td>\n",
       "      <td>5.0</td>\n",
       "      <td>3.0</td>\n",
       "      <td>120.00</td>\n",
       "    </tr>\n",
       "    <tr>\n",
       "      <th>2</th>\n",
       "      <td>Built-up  Area</td>\n",
       "      <td>Ready To Move</td>\n",
       "      <td>Uttarahalli</td>\n",
       "      <td>3 BHK</td>\n",
       "      <td>NaN</td>\n",
       "      <td>1440</td>\n",
       "      <td>2.0</td>\n",
       "      <td>3.0</td>\n",
       "      <td>62.00</td>\n",
       "    </tr>\n",
       "    <tr>\n",
       "      <th>3</th>\n",
       "      <td>Super built-up  Area</td>\n",
       "      <td>Ready To Move</td>\n",
       "      <td>Lingadheeranahalli</td>\n",
       "      <td>3 BHK</td>\n",
       "      <td>Soiewre</td>\n",
       "      <td>1521</td>\n",
       "      <td>3.0</td>\n",
       "      <td>1.0</td>\n",
       "      <td>95.00</td>\n",
       "    </tr>\n",
       "    <tr>\n",
       "      <th>4</th>\n",
       "      <td>Super built-up  Area</td>\n",
       "      <td>Ready To Move</td>\n",
       "      <td>Kothanur</td>\n",
       "      <td>2 BHK</td>\n",
       "      <td>NaN</td>\n",
       "      <td>1200</td>\n",
       "      <td>2.0</td>\n",
       "      <td>1.0</td>\n",
       "      <td>51.00</td>\n",
       "    </tr>\n",
       "  </tbody>\n",
       "</table>\n",
       "</div>"
      ],
      "text/plain": [
       "              area_type   availability                  location       size  \\\n",
       "0  Super built-up  Area         19-Dec  Electronic City Phase II      2 BHK   \n",
       "1            Plot  Area  Ready To Move          Chikka Tirupathi  4 Bedroom   \n",
       "2        Built-up  Area  Ready To Move               Uttarahalli      3 BHK   \n",
       "3  Super built-up  Area  Ready To Move        Lingadheeranahalli      3 BHK   \n",
       "4  Super built-up  Area  Ready To Move                  Kothanur      2 BHK   \n",
       "\n",
       "   society total_sqft  bath  balcony   price  \n",
       "0  Coomee        1056   2.0      1.0   39.07  \n",
       "1  Theanmp       2600   5.0      3.0  120.00  \n",
       "2      NaN       1440   2.0      3.0   62.00  \n",
       "3  Soiewre       1521   3.0      1.0   95.00  \n",
       "4      NaN       1200   2.0      1.0   51.00  "
      ]
     },
     "execution_count": 70,
     "metadata": {},
     "output_type": "execute_result"
    }
   ],
   "source": [
    "df.head()"
   ]
  },
  {
   "cell_type": "code",
   "execution_count": 71,
   "id": "1a0bec2d",
   "metadata": {},
   "outputs": [],
   "source": [
    "#dropping the columns containing categorical value and column which has null value more than 20%\n",
    "whole_new_df = df.drop(columns=['area_type','availability','society','balcony'], axis=1)"
   ]
  },
  {
   "cell_type": "code",
   "execution_count": 72,
   "id": "f91a6e42",
   "metadata": {},
   "outputs": [
    {
     "data": {
      "text/html": [
       "<div>\n",
       "<style scoped>\n",
       "    .dataframe tbody tr th:only-of-type {\n",
       "        vertical-align: middle;\n",
       "    }\n",
       "\n",
       "    .dataframe tbody tr th {\n",
       "        vertical-align: top;\n",
       "    }\n",
       "\n",
       "    .dataframe thead th {\n",
       "        text-align: right;\n",
       "    }\n",
       "</style>\n",
       "<table border=\"1\" class=\"dataframe\">\n",
       "  <thead>\n",
       "    <tr style=\"text-align: right;\">\n",
       "      <th></th>\n",
       "      <th>location</th>\n",
       "      <th>size</th>\n",
       "      <th>total_sqft</th>\n",
       "      <th>bath</th>\n",
       "      <th>price</th>\n",
       "    </tr>\n",
       "  </thead>\n",
       "  <tbody>\n",
       "    <tr>\n",
       "      <th>0</th>\n",
       "      <td>Electronic City Phase II</td>\n",
       "      <td>2 BHK</td>\n",
       "      <td>1056</td>\n",
       "      <td>2.0</td>\n",
       "      <td>39.07</td>\n",
       "    </tr>\n",
       "    <tr>\n",
       "      <th>1</th>\n",
       "      <td>Chikka Tirupathi</td>\n",
       "      <td>4 Bedroom</td>\n",
       "      <td>2600</td>\n",
       "      <td>5.0</td>\n",
       "      <td>120.00</td>\n",
       "    </tr>\n",
       "    <tr>\n",
       "      <th>2</th>\n",
       "      <td>Uttarahalli</td>\n",
       "      <td>3 BHK</td>\n",
       "      <td>1440</td>\n",
       "      <td>2.0</td>\n",
       "      <td>62.00</td>\n",
       "    </tr>\n",
       "    <tr>\n",
       "      <th>3</th>\n",
       "      <td>Lingadheeranahalli</td>\n",
       "      <td>3 BHK</td>\n",
       "      <td>1521</td>\n",
       "      <td>3.0</td>\n",
       "      <td>95.00</td>\n",
       "    </tr>\n",
       "    <tr>\n",
       "      <th>4</th>\n",
       "      <td>Kothanur</td>\n",
       "      <td>2 BHK</td>\n",
       "      <td>1200</td>\n",
       "      <td>2.0</td>\n",
       "      <td>51.00</td>\n",
       "    </tr>\n",
       "  </tbody>\n",
       "</table>\n",
       "</div>"
      ],
      "text/plain": [
       "                   location       size total_sqft  bath   price\n",
       "0  Electronic City Phase II      2 BHK       1056   2.0   39.07\n",
       "1          Chikka Tirupathi  4 Bedroom       2600   5.0  120.00\n",
       "2               Uttarahalli      3 BHK       1440   2.0   62.00\n",
       "3        Lingadheeranahalli      3 BHK       1521   3.0   95.00\n",
       "4                  Kothanur      2 BHK       1200   2.0   51.00"
      ]
     },
     "execution_count": 72,
     "metadata": {},
     "output_type": "execute_result"
    }
   ],
   "source": [
    "whole_new_df.head()"
   ]
  },
  {
   "cell_type": "markdown",
   "id": "3b1ab086",
   "metadata": {},
   "source": [
    "# Now we will tackle each attribute carefully and make it clean for feeding it to our machine learning model."
   ]
  },
  {
   "cell_type": "code",
   "execution_count": 73,
   "id": "7c55efeb",
   "metadata": {},
   "outputs": [
    {
     "data": {
      "text/plain": [
       "(location       1\n",
       " size          16\n",
       " total_sqft     0\n",
       " bath          73\n",
       " price          0\n",
       " dtype: int64,\n",
       " (13320, 5))"
      ]
     },
     "execution_count": 73,
     "metadata": {},
     "output_type": "execute_result"
    }
   ],
   "source": [
    "whole_new_df.isnull().sum(), whole_new_df.shape"
   ]
  },
  {
   "cell_type": "markdown",
   "id": "bc4a3485",
   "metadata": {},
   "source": [
    "## Given that there is only one missing value for the location column, we may fill it with the value that has been used the most frequently."
   ]
  },
  {
   "cell_type": "code",
   "execution_count": 74,
   "id": "af986343",
   "metadata": {},
   "outputs": [],
   "source": [
    "#count the each instance in column 'location'\n",
    "#for column in whole_new_df.columns:\n",
    "#    value_counts = whole_new_df[column].value_counts()\n",
    " #   print(f'Counts for {column}:')\n",
    "  #  print(value_counts)\n",
    "   # print()"
   ]
  },
  {
   "cell_type": "code",
   "execution_count": 75,
   "id": "eaf6facd",
   "metadata": {},
   "outputs": [
    {
     "data": {
      "text/plain": [
       "Whitefield                        540\n",
       "Sarjapur  Road                    399\n",
       "Electronic City                   302\n",
       "Kanakpura Road                    273\n",
       "Thanisandra                       234\n",
       "                                 ... \n",
       "Bapuji Layout                       1\n",
       "1st Stage Radha Krishna Layout      1\n",
       "BEML Layout 5th stage               1\n",
       "singapura paradise                  1\n",
       "Abshot Layout                       1\n",
       "Name: location, Length: 1305, dtype: int64"
      ]
     },
     "execution_count": 75,
     "metadata": {},
     "output_type": "execute_result"
    }
   ],
   "source": [
    "#count the each instance in column 'location'\n",
    "whole_new_df['location'].value_counts()"
   ]
  },
  {
   "cell_type": "code",
   "execution_count": 76,
   "id": "af8d262d",
   "metadata": {},
   "outputs": [],
   "source": [
    "#now we will fill the missing value with mode value in the column location\n",
    "whole_new_df['location'] = whole_new_df['location'].fillna(whole_new_df['location'].mode().iloc[0])\n"
   ]
  },
  {
   "cell_type": "code",
   "execution_count": 77,
   "id": "8632d412",
   "metadata": {},
   "outputs": [
    {
     "data": {
      "text/plain": [
       "(location       0\n",
       " size          16\n",
       " total_sqft     0\n",
       " bath          73\n",
       " price          0\n",
       " dtype: int64,\n",
       " location      0.000000\n",
       " size          0.001201\n",
       " total_sqft    0.000000\n",
       " bath          0.005480\n",
       " price         0.000000\n",
       " dtype: float64)"
      ]
     },
     "execution_count": 77,
     "metadata": {},
     "output_type": "execute_result"
    }
   ],
   "source": [
    "#checking percentage of null value in the dataset \n",
    "whole_new_df.isnull().sum(), whole_new_df.isnull().sum()/whole_new_df.shape[0]"
   ]
  },
  {
   "cell_type": "markdown",
   "id": "f57c18bb",
   "metadata": {},
   "source": [
    "## Because the location column has no longer missing a value, we can move on to the size. We can estimate the dataset's mode value for that specific column since the missing value is less than one percentage."
   ]
  },
  {
   "cell_type": "code",
   "execution_count": 78,
   "id": "d2e9b3ff",
   "metadata": {},
   "outputs": [],
   "source": [
    "whole_new_df['size'] = whole_new_df['size'].fillna(whole_new_df['size'].mode().iloc[0])"
   ]
  },
  {
   "cell_type": "code",
   "execution_count": 79,
   "id": "29b0a299",
   "metadata": {},
   "outputs": [
    {
     "data": {
      "text/plain": [
       "location       0\n",
       "size           0\n",
       "total_sqft     0\n",
       "bath          73\n",
       "price          0\n",
       "dtype: int64"
      ]
     },
     "execution_count": 79,
     "metadata": {},
     "output_type": "execute_result"
    }
   ],
   "source": [
    "whole_new_df.isnull().sum()"
   ]
  },
  {
   "cell_type": "code",
   "execution_count": 80,
   "id": "5c5ed44f",
   "metadata": {},
   "outputs": [],
   "source": [
    "whole_new_df['bath'] = whole_new_df['bath'].fillna(whole_new_df['bath'].mode().iloc[0])"
   ]
  },
  {
   "cell_type": "code",
   "execution_count": 81,
   "id": "c2a6570a",
   "metadata": {},
   "outputs": [
    {
     "name": "stdout",
     "output_type": "stream",
     "text": [
      "<class 'pandas.core.frame.DataFrame'>\n",
      "RangeIndex: 13320 entries, 0 to 13319\n",
      "Data columns (total 5 columns):\n",
      " #   Column      Non-Null Count  Dtype  \n",
      "---  ------      --------------  -----  \n",
      " 0   location    13320 non-null  object \n",
      " 1   size        13320 non-null  object \n",
      " 2   total_sqft  13320 non-null  object \n",
      " 3   bath        13320 non-null  float64\n",
      " 4   price       13320 non-null  float64\n",
      "dtypes: float64(2), object(3)\n",
      "memory usage: 520.4+ KB\n"
     ]
    },
    {
     "data": {
      "text/plain": [
       "(location      0\n",
       " size          0\n",
       " total_sqft    0\n",
       " bath          0\n",
       " price         0\n",
       " dtype: int64,\n",
       " None)"
      ]
     },
     "execution_count": 81,
     "metadata": {},
     "output_type": "execute_result"
    }
   ],
   "source": [
    "#after filling the missing value in the dataset checking the status of the dataset\n",
    "whole_new_df.isnull().sum(), whole_new_df.info()"
   ]
  },
  {
   "cell_type": "code",
   "execution_count": 82,
   "id": "74bae56c",
   "metadata": {},
   "outputs": [
    {
     "data": {
      "text/plain": [
       "<AxesSubplot:>"
      ]
     },
     "execution_count": 82,
     "metadata": {},
     "output_type": "execute_result"
    },
    {
     "data": {
      "image/png": "[encoded data removed]",
      "text/plain": [
       "<Figure size 864x864 with 2 Axes>"
      ]
     },
     "metadata": {
      "needs_background": "light"
     },
     "output_type": "display_data"
    }
   ],
   "source": [
    "#plotting heatmap to check if there are any missing value present in the dataset\n",
    "plt.figure(figsize=(12,12))\n",
    "sns.heatmap(whole_new_df.isnull())"
   ]
  },
  {
   "cell_type": "markdown",
   "id": "fafa16d0",
   "metadata": {},
   "source": [
    "## We substituted the most often repeated values for the few missing values that were present. Considering the data's distribution might also help you decide whether to use the mean, median, or mode to fill in the missing number.\n",
    "## Now, we dont have any missing value in the dataset, so we will convert the object type data into float type or int type to make it suitbale for feeding into machine learning model."
   ]
  },
  {
   "cell_type": "code",
   "execution_count": 83,
   "id": "da0c6e09",
   "metadata": {},
   "outputs": [],
   "source": [
    "#extracting int from column size\n",
    "whole_new_df['size_bhk'] = pd.to_numeric(df['size'].str.extract('(\\d+)')[0])"
   ]
  },
  {
   "cell_type": "code",
   "execution_count": 84,
   "id": "910f32ec",
   "metadata": {},
   "outputs": [
    {
     "name": "stdout",
     "output_type": "stream",
     "text": [
      "<class 'pandas.core.frame.DataFrame'>\n",
      "RangeIndex: 13320 entries, 0 to 13319\n",
      "Data columns (total 6 columns):\n",
      " #   Column      Non-Null Count  Dtype  \n",
      "---  ------      --------------  -----  \n",
      " 0   location    13320 non-null  object \n",
      " 1   size        13320 non-null  object \n",
      " 2   total_sqft  13320 non-null  object \n",
      " 3   bath        13320 non-null  float64\n",
      " 4   price       13320 non-null  float64\n",
      " 5   size_bhk    13304 non-null  float64\n",
      "dtypes: float64(3), object(3)\n",
      "memory usage: 624.5+ KB\n"
     ]
    }
   ],
   "source": [
    "whole_new_df.info()"
   ]
  },
  {
   "cell_type": "code",
   "execution_count": 85,
   "id": "5dedb72f",
   "metadata": {},
   "outputs": [
    {
     "data": {
      "text/plain": [
       "array(['1056', '2600', '1440', ..., '1133 - 1384', '774', '4689'],\n",
       "      dtype=object)"
      ]
     },
     "execution_count": 85,
     "metadata": {},
     "output_type": "execute_result"
    }
   ],
   "source": [
    "whole_new_df['total_sqft'].unique()"
   ]
  },
  {
   "cell_type": "code",
   "execution_count": 86,
   "id": "6d00ceca",
   "metadata": {},
   "outputs": [],
   "source": [
    "#here the range value are converted into single integer \n",
    "def convertRange_into_singleinteger(a):\n",
    "    try:\n",
    "        return float(a)\n",
    "    except ValueError:\n",
    "        pass\n",
    "    \n",
    "    try:\n",
    "        lower_bound, upper_bound = map(float, a.split('-'))\n",
    "        return (lower_bound + upper_bound) / 2\n",
    "    except ValueError:\n",
    "        return None\n"
   ]
  },
  {
   "cell_type": "code",
   "execution_count": 87,
   "id": "bdd5f63d",
   "metadata": {},
   "outputs": [],
   "source": [
    "#apply function to apply the changes in dataset\n",
    "whole_new_df['total_sqft'] = whole_new_df['total_sqft'].apply(convertRange_into_singleinteger)"
   ]
  },
  {
   "cell_type": "code",
   "execution_count": 88,
   "id": "2e8424e1",
   "metadata": {},
   "outputs": [
    {
     "name": "stdout",
     "output_type": "stream",
     "text": [
      "<class 'pandas.core.frame.DataFrame'>\n",
      "RangeIndex: 13320 entries, 0 to 13319\n",
      "Data columns (total 6 columns):\n",
      " #   Column      Non-Null Count  Dtype  \n",
      "---  ------      --------------  -----  \n",
      " 0   location    13320 non-null  object \n",
      " 1   size        13320 non-null  object \n",
      " 2   total_sqft  13274 non-null  float64\n",
      " 3   bath        13320 non-null  float64\n",
      " 4   price       13320 non-null  float64\n",
      " 5   size_bhk    13304 non-null  float64\n",
      "dtypes: float64(4), object(2)\n",
      "memory usage: 624.5+ KB\n"
     ]
    }
   ],
   "source": [
    "whole_new_df.info()"
   ]
  },
  {
   "cell_type": "markdown",
   "id": "48e08aef",
   "metadata": {},
   "source": [
    "##  At the attribute location, we simply eliminated any leading or trailing white spaces for each value. The locations which had been repeated 20 times or less were then filtered, and they were given the label 'others'. "
   ]
  },
  {
   "cell_type": "code",
   "execution_count": 89,
   "id": "40e7ef28",
   "metadata": {},
   "outputs": [],
   "source": [
    "#removing any leading or trailing white spaces of each value in the attribute location\n",
    "whole_new_df['location'] = whole_new_df['location'].apply(lambda x: x.strip())"
   ]
  },
  {
   "cell_type": "code",
   "execution_count": 90,
   "id": "fe25a443",
   "metadata": {},
   "outputs": [],
   "source": [
    "location_count = whole_new_df['location'].value_counts()"
   ]
  },
  {
   "cell_type": "code",
   "execution_count": 91,
   "id": "2682cb59",
   "metadata": {},
   "outputs": [
    {
     "data": {
      "text/plain": [
       "Poorna Pragna Layout              20\n",
       "Yelachenahalli                    20\n",
       "Sanjay nagar                      20\n",
       "HBR Layout                        20\n",
       "Kalyan nagar                      19\n",
       "                                  ..\n",
       "Bapuji Layout                      1\n",
       "1st Stage Radha Krishna Layout     1\n",
       "BEML Layout 5th stage              1\n",
       "singapura paradise                 1\n",
       "Abshot Layout                      1\n",
       "Name: location, Length: 1150, dtype: int64"
      ]
     },
     "execution_count": 91,
     "metadata": {},
     "output_type": "execute_result"
    }
   ],
   "source": [
    "#counting location which has been reptaed only 20 times in the dataset\n",
    "location_count_20 = whole_new_df['location'].value_counts()[location_count<=20]\n",
    "location_count_20"
   ]
  },
  {
   "cell_type": "code",
   "execution_count": 92,
   "id": "336c0818",
   "metadata": {},
   "outputs": [],
   "source": [
    "#naming all the location to Others which has been repetated 20 times\n",
    "whole_new_df['location']=whole_new_df['location'].apply(lambda x: 'Other' if x in location_count_20 else x)"
   ]
  },
  {
   "cell_type": "code",
   "execution_count": 93,
   "id": "f92fa9e3",
   "metadata": {},
   "outputs": [
    {
     "data": {
      "text/plain": [
       "Other                 4288\n",
       "Whitefield             542\n",
       "Sarjapur  Road         399\n",
       "Electronic City        304\n",
       "Kanakpura Road         273\n",
       "                      ... \n",
       "Domlur                  22\n",
       "Hoskote                 22\n",
       "Binny Pete              21\n",
       "Basaveshwara Nagar      21\n",
       "Ulsoor                  21\n",
       "Name: location, Length: 145, dtype: int64"
      ]
     },
     "execution_count": 93,
     "metadata": {},
     "output_type": "execute_result"
    }
   ],
   "source": [
    "whole_new_df['location'].value_counts()"
   ]
  },
  {
   "cell_type": "code",
   "execution_count": 94,
   "id": "a51fd7f2",
   "metadata": {},
   "outputs": [
    {
     "name": "stdout",
     "output_type": "stream",
     "text": [
      "<class 'pandas.core.frame.DataFrame'>\n",
      "RangeIndex: 13320 entries, 0 to 13319\n",
      "Data columns (total 6 columns):\n",
      " #   Column      Non-Null Count  Dtype  \n",
      "---  ------      --------------  -----  \n",
      " 0   location    13320 non-null  object \n",
      " 1   size        13320 non-null  object \n",
      " 2   total_sqft  13274 non-null  float64\n",
      " 3   bath        13320 non-null  float64\n",
      " 4   price       13320 non-null  float64\n",
      " 5   size_bhk    13304 non-null  float64\n",
      "dtypes: float64(4), object(2)\n",
      "memory usage: 624.5+ KB\n"
     ]
    }
   ],
   "source": [
    "whole_new_df.info()"
   ]
  },
  {
   "cell_type": "code",
   "execution_count": 95,
   "id": "ab5db4f3",
   "metadata": {},
   "outputs": [
    {
     "data": {
      "text/html": [
       "<div>\n",
       "<style scoped>\n",
       "    .dataframe tbody tr th:only-of-type {\n",
       "        vertical-align: middle;\n",
       "    }\n",
       "\n",
       "    .dataframe tbody tr th {\n",
       "        vertical-align: top;\n",
       "    }\n",
       "\n",
       "    .dataframe thead th {\n",
       "        text-align: right;\n",
       "    }\n",
       "</style>\n",
       "<table border=\"1\" class=\"dataframe\">\n",
       "  <thead>\n",
       "    <tr style=\"text-align: right;\">\n",
       "      <th></th>\n",
       "      <th>location</th>\n",
       "      <th>total_sqft</th>\n",
       "      <th>bath</th>\n",
       "      <th>price</th>\n",
       "      <th>size_bhk</th>\n",
       "    </tr>\n",
       "  </thead>\n",
       "  <tbody>\n",
       "    <tr>\n",
       "      <th>0</th>\n",
       "      <td>Electronic City Phase II</td>\n",
       "      <td>1056.0</td>\n",
       "      <td>2.0</td>\n",
       "      <td>39.07</td>\n",
       "      <td>2.0</td>\n",
       "    </tr>\n",
       "    <tr>\n",
       "      <th>1</th>\n",
       "      <td>Other</td>\n",
       "      <td>2600.0</td>\n",
       "      <td>5.0</td>\n",
       "      <td>120.00</td>\n",
       "      <td>4.0</td>\n",
       "    </tr>\n",
       "    <tr>\n",
       "      <th>2</th>\n",
       "      <td>Uttarahalli</td>\n",
       "      <td>1440.0</td>\n",
       "      <td>2.0</td>\n",
       "      <td>62.00</td>\n",
       "      <td>3.0</td>\n",
       "    </tr>\n",
       "    <tr>\n",
       "      <th>3</th>\n",
       "      <td>Lingadheeranahalli</td>\n",
       "      <td>1521.0</td>\n",
       "      <td>3.0</td>\n",
       "      <td>95.00</td>\n",
       "      <td>3.0</td>\n",
       "    </tr>\n",
       "    <tr>\n",
       "      <th>4</th>\n",
       "      <td>Kothanur</td>\n",
       "      <td>1200.0</td>\n",
       "      <td>2.0</td>\n",
       "      <td>51.00</td>\n",
       "      <td>2.0</td>\n",
       "    </tr>\n",
       "    <tr>\n",
       "      <th>...</th>\n",
       "      <td>...</td>\n",
       "      <td>...</td>\n",
       "      <td>...</td>\n",
       "      <td>...</td>\n",
       "      <td>...</td>\n",
       "    </tr>\n",
       "    <tr>\n",
       "      <th>13315</th>\n",
       "      <td>Whitefield</td>\n",
       "      <td>3453.0</td>\n",
       "      <td>4.0</td>\n",
       "      <td>231.00</td>\n",
       "      <td>5.0</td>\n",
       "    </tr>\n",
       "    <tr>\n",
       "      <th>13316</th>\n",
       "      <td>Other</td>\n",
       "      <td>3600.0</td>\n",
       "      <td>5.0</td>\n",
       "      <td>400.00</td>\n",
       "      <td>4.0</td>\n",
       "    </tr>\n",
       "    <tr>\n",
       "      <th>13317</th>\n",
       "      <td>Raja Rajeshwari Nagar</td>\n",
       "      <td>1141.0</td>\n",
       "      <td>2.0</td>\n",
       "      <td>60.00</td>\n",
       "      <td>2.0</td>\n",
       "    </tr>\n",
       "    <tr>\n",
       "      <th>13318</th>\n",
       "      <td>Padmanabhanagar</td>\n",
       "      <td>4689.0</td>\n",
       "      <td>4.0</td>\n",
       "      <td>488.00</td>\n",
       "      <td>4.0</td>\n",
       "    </tr>\n",
       "    <tr>\n",
       "      <th>13319</th>\n",
       "      <td>Doddathoguru</td>\n",
       "      <td>550.0</td>\n",
       "      <td>1.0</td>\n",
       "      <td>17.00</td>\n",
       "      <td>1.0</td>\n",
       "    </tr>\n",
       "  </tbody>\n",
       "</table>\n",
       "<p>13320 rows × 5 columns</p>\n",
       "</div>"
      ],
      "text/plain": [
       "                       location  total_sqft  bath   price  size_bhk\n",
       "0      Electronic City Phase II      1056.0   2.0   39.07       2.0\n",
       "1                         Other      2600.0   5.0  120.00       4.0\n",
       "2                   Uttarahalli      1440.0   2.0   62.00       3.0\n",
       "3            Lingadheeranahalli      1521.0   3.0   95.00       3.0\n",
       "4                      Kothanur      1200.0   2.0   51.00       2.0\n",
       "...                         ...         ...   ...     ...       ...\n",
       "13315                Whitefield      3453.0   4.0  231.00       5.0\n",
       "13316                     Other      3600.0   5.0  400.00       4.0\n",
       "13317     Raja Rajeshwari Nagar      1141.0   2.0   60.00       2.0\n",
       "13318           Padmanabhanagar      4689.0   4.0  488.00       4.0\n",
       "13319              Doddathoguru       550.0   1.0   17.00       1.0\n",
       "\n",
       "[13320 rows x 5 columns]"
      ]
     },
     "execution_count": 95,
     "metadata": {},
     "output_type": "execute_result"
    }
   ],
   "source": [
    "whole_new_df.drop(['size'],axis=1)"
   ]
  },
  {
   "cell_type": "code",
   "execution_count": 96,
   "id": "361fa463",
   "metadata": {},
   "outputs": [
    {
     "data": {
      "text/html": [
       "<div>\n",
       "<style scoped>\n",
       "    .dataframe tbody tr th:only-of-type {\n",
       "        vertical-align: middle;\n",
       "    }\n",
       "\n",
       "    .dataframe tbody tr th {\n",
       "        vertical-align: top;\n",
       "    }\n",
       "\n",
       "    .dataframe thead th {\n",
       "        text-align: right;\n",
       "    }\n",
       "</style>\n",
       "<table border=\"1\" class=\"dataframe\">\n",
       "  <thead>\n",
       "    <tr style=\"text-align: right;\">\n",
       "      <th></th>\n",
       "      <th>total_sqft</th>\n",
       "      <th>bath</th>\n",
       "      <th>price</th>\n",
       "      <th>size_bhk</th>\n",
       "    </tr>\n",
       "  </thead>\n",
       "  <tbody>\n",
       "    <tr>\n",
       "      <th>count</th>\n",
       "      <td>13274.000000</td>\n",
       "      <td>13320.000000</td>\n",
       "      <td>13320.000000</td>\n",
       "      <td>13304.000000</td>\n",
       "    </tr>\n",
       "    <tr>\n",
       "      <th>mean</th>\n",
       "      <td>1559.626694</td>\n",
       "      <td>2.688814</td>\n",
       "      <td>112.565627</td>\n",
       "      <td>2.803743</td>\n",
       "    </tr>\n",
       "    <tr>\n",
       "      <th>std</th>\n",
       "      <td>1238.405258</td>\n",
       "      <td>1.338754</td>\n",
       "      <td>148.971674</td>\n",
       "      <td>1.294974</td>\n",
       "    </tr>\n",
       "    <tr>\n",
       "      <th>min</th>\n",
       "      <td>1.000000</td>\n",
       "      <td>1.000000</td>\n",
       "      <td>8.000000</td>\n",
       "      <td>1.000000</td>\n",
       "    </tr>\n",
       "    <tr>\n",
       "      <th>25%</th>\n",
       "      <td>1100.000000</td>\n",
       "      <td>2.000000</td>\n",
       "      <td>50.000000</td>\n",
       "      <td>2.000000</td>\n",
       "    </tr>\n",
       "    <tr>\n",
       "      <th>50%</th>\n",
       "      <td>1276.000000</td>\n",
       "      <td>2.000000</td>\n",
       "      <td>72.000000</td>\n",
       "      <td>3.000000</td>\n",
       "    </tr>\n",
       "    <tr>\n",
       "      <th>75%</th>\n",
       "      <td>1680.000000</td>\n",
       "      <td>3.000000</td>\n",
       "      <td>120.000000</td>\n",
       "      <td>3.000000</td>\n",
       "    </tr>\n",
       "    <tr>\n",
       "      <th>max</th>\n",
       "      <td>52272.000000</td>\n",
       "      <td>40.000000</td>\n",
       "      <td>3600.000000</td>\n",
       "      <td>43.000000</td>\n",
       "    </tr>\n",
       "  </tbody>\n",
       "</table>\n",
       "</div>"
      ],
      "text/plain": [
       "         total_sqft          bath         price      size_bhk\n",
       "count  13274.000000  13320.000000  13320.000000  13304.000000\n",
       "mean    1559.626694      2.688814    112.565627      2.803743\n",
       "std     1238.405258      1.338754    148.971674      1.294974\n",
       "min        1.000000      1.000000      8.000000      1.000000\n",
       "25%     1100.000000      2.000000     50.000000      2.000000\n",
       "50%     1276.000000      2.000000     72.000000      3.000000\n",
       "75%     1680.000000      3.000000    120.000000      3.000000\n",
       "max    52272.000000     40.000000   3600.000000     43.000000"
      ]
     },
     "execution_count": 96,
     "metadata": {},
     "output_type": "execute_result"
    }
   ],
   "source": [
    "whole_new_df.describe()"
   ]
  },
  {
   "cell_type": "code",
   "execution_count": 97,
   "id": "42984d19",
   "metadata": {},
   "outputs": [
    {
     "data": {
      "text/plain": [
       "<AxesSubplot:>"
      ]
     },
     "execution_count": 97,
     "metadata": {},
     "output_type": "execute_result"
    },
    {
     "data": {
      "image/png": "[encoded data removed]",
      "text/plain": [
       "<Figure size 432x288 with 2 Axes>"
      ]
     },
     "metadata": {
      "needs_background": "light"
     },
     "output_type": "display_data"
    }
   ],
   "source": [
    "sns.heatmap(whole_new_df.isnull())"
   ]
  },
  {
   "cell_type": "markdown",
   "id": "b484c842",
   "metadata": {},
   "source": [
    " # Now we will perform Feature Engineering to analyze the data"
   ]
  },
  {
   "cell_type": "markdown",
   "id": "4614393e",
   "metadata": {},
   "source": [
    "### Total sqft has a minimum value of 1, which is impossible. As a result, we'll attempt to filter out the total sqft's real minimum value. To filter the values in the dataset, we will add columns like price per square foot (price per sqft) and bedroom per square foot (bhk per sqft).\n",
    "#### If we take a closer look at the pricing, we can see that it reflects the cost of the entire floor area of the flat. We divide the price by the total square feet of the unit to determine the cost per square foot. We will first multiply the price by 1,000 because it is expressed in thousands of dollars. size has already been converted to size_bhk, we removed the size column."
   ]
  },
  {
   "cell_type": "code",
   "execution_count": 98,
   "id": "47f2db5a",
   "metadata": {},
   "outputs": [],
   "source": [
    "whole_new_df['price_per_sqft'] = whole_new_df['price']*1000/whole_new_df['total_sqft']"
   ]
  },
  {
   "cell_type": "code",
   "execution_count": 99,
   "id": "a7033022",
   "metadata": {},
   "outputs": [],
   "source": [
    "whole_new_df['bhk_per_sqft'] = whole_new_df['total_sqft']/whole_new_df['size_bhk']"
   ]
  },
  {
   "cell_type": "code",
   "execution_count": 100,
   "id": "29ff679d",
   "metadata": {},
   "outputs": [
    {
     "data": {
      "text/html": [
       "<div>\n",
       "<style scoped>\n",
       "    .dataframe tbody tr th:only-of-type {\n",
       "        vertical-align: middle;\n",
       "    }\n",
       "\n",
       "    .dataframe tbody tr th {\n",
       "        vertical-align: top;\n",
       "    }\n",
       "\n",
       "    .dataframe thead th {\n",
       "        text-align: right;\n",
       "    }\n",
       "</style>\n",
       "<table border=\"1\" class=\"dataframe\">\n",
       "  <thead>\n",
       "    <tr style=\"text-align: right;\">\n",
       "      <th></th>\n",
       "      <th>total_sqft</th>\n",
       "      <th>bath</th>\n",
       "      <th>price</th>\n",
       "      <th>size_bhk</th>\n",
       "      <th>price_per_sqft</th>\n",
       "      <th>bhk_per_sqft</th>\n",
       "    </tr>\n",
       "  </thead>\n",
       "  <tbody>\n",
       "    <tr>\n",
       "      <th>count</th>\n",
       "      <td>13274.000000</td>\n",
       "      <td>13320.000000</td>\n",
       "      <td>13320.000000</td>\n",
       "      <td>13304.000000</td>\n",
       "      <td>13274.000000</td>\n",
       "      <td>13258.000000</td>\n",
       "    </tr>\n",
       "    <tr>\n",
       "      <th>mean</th>\n",
       "      <td>1559.626694</td>\n",
       "      <td>2.688814</td>\n",
       "      <td>112.565627</td>\n",
       "      <td>2.803743</td>\n",
       "      <td>79.075012</td>\n",
       "      <td>574.420590</td>\n",
       "    </tr>\n",
       "    <tr>\n",
       "      <th>std</th>\n",
       "      <td>1238.405258</td>\n",
       "      <td>1.338754</td>\n",
       "      <td>148.971674</td>\n",
       "      <td>1.294974</td>\n",
       "      <td>1064.295948</td>\n",
       "      <td>387.584212</td>\n",
       "    </tr>\n",
       "    <tr>\n",
       "      <th>min</th>\n",
       "      <td>1.000000</td>\n",
       "      <td>1.000000</td>\n",
       "      <td>8.000000</td>\n",
       "      <td>1.000000</td>\n",
       "      <td>2.678298</td>\n",
       "      <td>0.250000</td>\n",
       "    </tr>\n",
       "    <tr>\n",
       "      <th>25%</th>\n",
       "      <td>1100.000000</td>\n",
       "      <td>2.000000</td>\n",
       "      <td>50.000000</td>\n",
       "      <td>2.000000</td>\n",
       "      <td>42.668645</td>\n",
       "      <td>473.333333</td>\n",
       "    </tr>\n",
       "    <tr>\n",
       "      <th>50%</th>\n",
       "      <td>1276.000000</td>\n",
       "      <td>2.000000</td>\n",
       "      <td>72.000000</td>\n",
       "      <td>3.000000</td>\n",
       "      <td>54.343063</td>\n",
       "      <td>552.250000</td>\n",
       "    </tr>\n",
       "    <tr>\n",
       "      <th>75%</th>\n",
       "      <td>1680.000000</td>\n",
       "      <td>3.000000</td>\n",
       "      <td>120.000000</td>\n",
       "      <td>3.000000</td>\n",
       "      <td>73.117461</td>\n",
       "      <td>625.000000</td>\n",
       "    </tr>\n",
       "    <tr>\n",
       "      <th>max</th>\n",
       "      <td>52272.000000</td>\n",
       "      <td>40.000000</td>\n",
       "      <td>3600.000000</td>\n",
       "      <td>43.000000</td>\n",
       "      <td>120000.000000</td>\n",
       "      <td>26136.000000</td>\n",
       "    </tr>\n",
       "  </tbody>\n",
       "</table>\n",
       "</div>"
      ],
      "text/plain": [
       "         total_sqft          bath         price      size_bhk  price_per_sqft  \\\n",
       "count  13274.000000  13320.000000  13320.000000  13304.000000    13274.000000   \n",
       "mean    1559.626694      2.688814    112.565627      2.803743       79.075012   \n",
       "std     1238.405258      1.338754    148.971674      1.294974     1064.295948   \n",
       "min        1.000000      1.000000      8.000000      1.000000        2.678298   \n",
       "25%     1100.000000      2.000000     50.000000      2.000000       42.668645   \n",
       "50%     1276.000000      2.000000     72.000000      3.000000       54.343063   \n",
       "75%     1680.000000      3.000000    120.000000      3.000000       73.117461   \n",
       "max    52272.000000     40.000000   3600.000000     43.000000   120000.000000   \n",
       "\n",
       "       bhk_per_sqft  \n",
       "count  13258.000000  \n",
       "mean     574.420590  \n",
       "std      387.584212  \n",
       "min        0.250000  \n",
       "25%      473.333333  \n",
       "50%      552.250000  \n",
       "75%      625.000000  \n",
       "max    26136.000000  "
      ]
     },
     "execution_count": 100,
     "metadata": {},
     "output_type": "execute_result"
    }
   ],
   "source": [
    "whole_new_df.describe()"
   ]
  },
  {
   "cell_type": "markdown",
   "id": "0d5a9dea",
   "metadata": {},
   "source": [
    "### In order to determine the standard deviation of the square footage in one bedroom, we constructed the column bhk per sqft. This will enable us to disregard or eliminate values that are lower than that (387)"
   ]
  },
  {
   "cell_type": "code",
   "execution_count": 101,
   "id": "df7c64f3",
   "metadata": {},
   "outputs": [],
   "source": [
    "whole_new_df = whole_new_df[(whole_new_df['total_sqft']/whole_new_df['size_bhk']>=387)]"
   ]
  },
  {
   "cell_type": "code",
   "execution_count": 102,
   "id": "fbcfbd2a",
   "metadata": {},
   "outputs": [
    {
     "data": {
      "text/html": [
       "<div>\n",
       "<style scoped>\n",
       "    .dataframe tbody tr th:only-of-type {\n",
       "        vertical-align: middle;\n",
       "    }\n",
       "\n",
       "    .dataframe tbody tr th {\n",
       "        vertical-align: top;\n",
       "    }\n",
       "\n",
       "    .dataframe thead th {\n",
       "        text-align: right;\n",
       "    }\n",
       "</style>\n",
       "<table border=\"1\" class=\"dataframe\">\n",
       "  <thead>\n",
       "    <tr style=\"text-align: right;\">\n",
       "      <th></th>\n",
       "      <th>total_sqft</th>\n",
       "      <th>bath</th>\n",
       "      <th>price</th>\n",
       "      <th>size_bhk</th>\n",
       "      <th>price_per_sqft</th>\n",
       "      <th>bhk_per_sqft</th>\n",
       "    </tr>\n",
       "  </thead>\n",
       "  <tbody>\n",
       "    <tr>\n",
       "      <th>count</th>\n",
       "      <td>11849.000000</td>\n",
       "      <td>11849.000000</td>\n",
       "      <td>11849.000000</td>\n",
       "      <td>11849.000000</td>\n",
       "      <td>11849.000000</td>\n",
       "      <td>11849.000000</td>\n",
       "    </tr>\n",
       "    <tr>\n",
       "      <th>mean</th>\n",
       "      <td>1619.028631</td>\n",
       "      <td>2.535066</td>\n",
       "      <td>111.694018</td>\n",
       "      <td>2.609672</td>\n",
       "      <td>61.768061</td>\n",
       "      <td>611.630420</td>\n",
       "    </tr>\n",
       "    <tr>\n",
       "      <th>std</th>\n",
       "      <td>1286.996428</td>\n",
       "      <td>1.038168</td>\n",
       "      <td>154.578534</td>\n",
       "      <td>0.931469</td>\n",
       "      <td>39.952360</td>\n",
       "      <td>392.629467</td>\n",
       "    </tr>\n",
       "    <tr>\n",
       "      <th>min</th>\n",
       "      <td>395.000000</td>\n",
       "      <td>1.000000</td>\n",
       "      <td>9.000000</td>\n",
       "      <td>1.000000</td>\n",
       "      <td>2.678298</td>\n",
       "      <td>387.075000</td>\n",
       "    </tr>\n",
       "    <tr>\n",
       "      <th>25%</th>\n",
       "      <td>1130.000000</td>\n",
       "      <td>2.000000</td>\n",
       "      <td>50.000000</td>\n",
       "      <td>2.000000</td>\n",
       "      <td>42.032838</td>\n",
       "      <td>500.000000</td>\n",
       "    </tr>\n",
       "    <tr>\n",
       "      <th>50%</th>\n",
       "      <td>1317.000000</td>\n",
       "      <td>2.000000</td>\n",
       "      <td>70.000000</td>\n",
       "      <td>2.000000</td>\n",
       "      <td>52.733119</td>\n",
       "      <td>570.000000</td>\n",
       "    </tr>\n",
       "    <tr>\n",
       "      <th>75%</th>\n",
       "      <td>1720.000000</td>\n",
       "      <td>3.000000</td>\n",
       "      <td>115.000000</td>\n",
       "      <td>3.000000</td>\n",
       "      <td>68.000000</td>\n",
       "      <td>637.500000</td>\n",
       "    </tr>\n",
       "    <tr>\n",
       "      <th>max</th>\n",
       "      <td>52272.000000</td>\n",
       "      <td>16.000000</td>\n",
       "      <td>3600.000000</td>\n",
       "      <td>16.000000</td>\n",
       "      <td>1764.705882</td>\n",
       "      <td>26136.000000</td>\n",
       "    </tr>\n",
       "  </tbody>\n",
       "</table>\n",
       "</div>"
      ],
      "text/plain": [
       "         total_sqft          bath         price      size_bhk  price_per_sqft  \\\n",
       "count  11849.000000  11849.000000  11849.000000  11849.000000    11849.000000   \n",
       "mean    1619.028631      2.535066    111.694018      2.609672       61.768061   \n",
       "std     1286.996428      1.038168    154.578534      0.931469       39.952360   \n",
       "min      395.000000      1.000000      9.000000      1.000000        2.678298   \n",
       "25%     1130.000000      2.000000     50.000000      2.000000       42.032838   \n",
       "50%     1317.000000      2.000000     70.000000      2.000000       52.733119   \n",
       "75%     1720.000000      3.000000    115.000000      3.000000       68.000000   \n",
       "max    52272.000000     16.000000   3600.000000     16.000000     1764.705882   \n",
       "\n",
       "       bhk_per_sqft  \n",
       "count  11849.000000  \n",
       "mean     611.630420  \n",
       "std      392.629467  \n",
       "min      387.075000  \n",
       "25%      500.000000  \n",
       "50%      570.000000  \n",
       "75%      637.500000  \n",
       "max    26136.000000  "
      ]
     },
     "execution_count": 102,
     "metadata": {},
     "output_type": "execute_result"
    }
   ],
   "source": [
    "whole_new_df.describe()"
   ]
  },
  {
   "cell_type": "markdown",
   "id": "9cf44e3e",
   "metadata": {},
   "source": [
    "## In order to determine whether or not there are outliers in the dataset, we will create a boxplot."
   ]
  },
  {
   "cell_type": "code",
   "execution_count": 103,
   "id": "bfff3bd1",
   "metadata": {},
   "outputs": [
    {
     "data": {
      "image/png": "[encoded data removed]",
      "text/plain": [
       "<Figure size 1080x720 with 3 Axes>"
      ]
     },
     "metadata": {
      "needs_background": "light"
     },
     "output_type": "display_data"
    }
   ],
   "source": [
    "# Create a figure and three subplots for each boxplot\n",
    "fig, (ax1, ax2, ax3) = plt.subplots(ncols=3, figsize=(15,10))\n",
    "\n",
    "# Create the first boxplot for total_sqft\n",
    "ax1.boxplot(whole_new_df['total_sqft'])\n",
    "ax1.set_title('total_sqft 1')\n",
    "\n",
    "# Create the second boxplot for bath \n",
    "ax2.boxplot(whole_new_df['bath'])\n",
    "ax2.set_title('bath')\n",
    "\n",
    "# Create the third boxplot for bhk \n",
    "ax3.boxplot(whole_new_df['size_bhk'])\n",
    "ax3.set_title('size_bhk')\n",
    "\n",
    "# Show the plot\n",
    "plt.show()"
   ]
  },
  {
   "cell_type": "code",
   "execution_count": 104,
   "id": "3b723d21",
   "metadata": {},
   "outputs": [
    {
     "data": {
      "text/html": [
       "<div>\n",
       "<style scoped>\n",
       "    .dataframe tbody tr th:only-of-type {\n",
       "        vertical-align: middle;\n",
       "    }\n",
       "\n",
       "    .dataframe tbody tr th {\n",
       "        vertical-align: top;\n",
       "    }\n",
       "\n",
       "    .dataframe thead th {\n",
       "        text-align: right;\n",
       "    }\n",
       "</style>\n",
       "<table border=\"1\" class=\"dataframe\">\n",
       "  <thead>\n",
       "    <tr style=\"text-align: right;\">\n",
       "      <th></th>\n",
       "      <th>total_sqft</th>\n",
       "      <th>bath</th>\n",
       "      <th>price</th>\n",
       "      <th>size_bhk</th>\n",
       "      <th>price_per_sqft</th>\n",
       "      <th>bhk_per_sqft</th>\n",
       "    </tr>\n",
       "  </thead>\n",
       "  <tbody>\n",
       "    <tr>\n",
       "      <th>count</th>\n",
       "      <td>11676.000000</td>\n",
       "      <td>11676.000000</td>\n",
       "      <td>11676.000000</td>\n",
       "      <td>11676.000000</td>\n",
       "      <td>11676.000000</td>\n",
       "      <td>11676.000000</td>\n",
       "    </tr>\n",
       "    <tr>\n",
       "      <th>mean</th>\n",
       "      <td>1602.520525</td>\n",
       "      <td>2.515759</td>\n",
       "      <td>104.535014</td>\n",
       "      <td>2.594553</td>\n",
       "      <td>59.581637</td>\n",
       "      <td>609.430785</td>\n",
       "    </tr>\n",
       "    <tr>\n",
       "      <th>std</th>\n",
       "      <td>1270.714792</td>\n",
       "      <td>1.013236</td>\n",
       "      <td>122.783626</td>\n",
       "      <td>0.916123</td>\n",
       "      <td>29.160036</td>\n",
       "      <td>391.741276</td>\n",
       "    </tr>\n",
       "    <tr>\n",
       "      <th>min</th>\n",
       "      <td>395.000000</td>\n",
       "      <td>1.000000</td>\n",
       "      <td>9.000000</td>\n",
       "      <td>1.000000</td>\n",
       "      <td>2.678298</td>\n",
       "      <td>387.075000</td>\n",
       "    </tr>\n",
       "    <tr>\n",
       "      <th>25%</th>\n",
       "      <td>1128.000000</td>\n",
       "      <td>2.000000</td>\n",
       "      <td>49.500000</td>\n",
       "      <td>2.000000</td>\n",
       "      <td>41.990232</td>\n",
       "      <td>500.000000</td>\n",
       "    </tr>\n",
       "    <tr>\n",
       "      <th>50%</th>\n",
       "      <td>1310.000000</td>\n",
       "      <td>2.000000</td>\n",
       "      <td>69.030000</td>\n",
       "      <td>2.000000</td>\n",
       "      <td>52.404839</td>\n",
       "      <td>570.000000</td>\n",
       "    </tr>\n",
       "    <tr>\n",
       "      <th>75%</th>\n",
       "      <td>1705.000000</td>\n",
       "      <td>3.000000</td>\n",
       "      <td>110.000000</td>\n",
       "      <td>3.000000</td>\n",
       "      <td>67.141270</td>\n",
       "      <td>636.000000</td>\n",
       "    </tr>\n",
       "    <tr>\n",
       "      <th>max</th>\n",
       "      <td>52272.000000</td>\n",
       "      <td>16.000000</td>\n",
       "      <td>2340.000000</td>\n",
       "      <td>16.000000</td>\n",
       "      <td>302.419355</td>\n",
       "      <td>26136.000000</td>\n",
       "    </tr>\n",
       "  </tbody>\n",
       "</table>\n",
       "</div>"
      ],
      "text/plain": [
       "         total_sqft          bath         price      size_bhk  price_per_sqft  \\\n",
       "count  11676.000000  11676.000000  11676.000000  11676.000000    11676.000000   \n",
       "mean    1602.520525      2.515759    104.535014      2.594553       59.581637   \n",
       "std     1270.714792      1.013236    122.783626      0.916123       29.160036   \n",
       "min      395.000000      1.000000      9.000000      1.000000        2.678298   \n",
       "25%     1128.000000      2.000000     49.500000      2.000000       41.990232   \n",
       "50%     1310.000000      2.000000     69.030000      2.000000       52.404839   \n",
       "75%     1705.000000      3.000000    110.000000      3.000000       67.141270   \n",
       "max    52272.000000     16.000000   2340.000000     16.000000      302.419355   \n",
       "\n",
       "       bhk_per_sqft  \n",
       "count  11676.000000  \n",
       "mean     609.430785  \n",
       "std      391.741276  \n",
       "min      387.075000  \n",
       "25%      500.000000  \n",
       "50%      570.000000  \n",
       "75%      636.000000  \n",
       "max    26136.000000  "
      ]
     },
     "execution_count": 104,
     "metadata": {},
     "output_type": "execute_result"
    }
   ],
   "source": [
    "def remove_outliers_sqft(cf):\n",
    "    # create an empty dataframe to store the output\n",
    "    cf_result = pd.DataFrame()\n",
    "    # group the dataframe by location\n",
    "    for key, subcf in cf.groupby('location'):\n",
    "        # calculate the mean and standard deviation of the price_per_sqft column for the current location\n",
    "        m = np.mean(subcf.price_per_sqft)\n",
    "        sd = np.std(subcf.price_per_sqft)\n",
    "        # filter out the rows where price_per_sqft is greater than (mean - 3*std) and less than or equal to (mean + 3*std)\n",
    "        gen_cf = subcf[(subcf.price_per_sqft > (m-3*sd)) & (subcf.price_per_sqft <= (m+3*sd))]\n",
    "        # concatenate the filtered dataframe with the output dataframe\n",
    "        cf_result = pd.concat([cf_result, gen_cf], ignore_index=True)\n",
    "    # return the output dataframe\n",
    "    return cf_result\n",
    "\n",
    "# apply the remove_outliers_sqft function to the df dataframe\n",
    "whole_new1_df1 = remove_outliers_sqft(whole_new_df)\n",
    "\n",
    "whole_new1_df1.describe()"
   ]
  },
  {
   "cell_type": "code",
   "execution_count": 105,
   "id": "0408570d",
   "metadata": {},
   "outputs": [],
   "source": [
    "def bhk_remover_outlier(pf):\n",
    "    # create an empty array to store the indices of rows to be excluded\n",
    "    exclude_indices = np.array([])\n",
    "    # group the dataframe by location\n",
    "    for location, location_pf in pf.groupby('location'):\n",
    "        # create an empty dictionary to store the statistics for each BHK in the current location\n",
    "        bhk_stats = {}\n",
    "        # group the location dataframe by BHK and calculate the mean, std, and count for each BHK\n",
    "        for bhk, bhk_pf in location_pf.groupby('size_bhk'):\n",
    "            bhk_stats[bhk] = {\n",
    "                'mean': np.mean(bhk_pf.price_per_sqft),\n",
    "                'std': np.std(bhk_pf.price_per_sqft),\n",
    "                'count': bhk_pf.shape[0]\n",
    "            }\n",
    "        # iterate over each BHK in the current location\n",
    "        for bhk, bhk_pf in location_pf.groupby('size_bhk'):\n",
    "            # get the statistics for the previous BHK if it exists and has a count greater than 5\n",
    "            stats = bhk_stats.get(bhk-1)\n",
    "            if stats and stats['count'] > 5:\n",
    "                # exclude the rows where the price_per_sqft is less than the mean of the previous BHK\n",
    "                exclude_indices = np.append(exclude_indices, bhk_pf[bhk_pf.price_per_sqft < stats['mean']].index.values)\n",
    "    # drop the excluded rows from the original dataframe and return it\n",
    "    return pf.drop(exclude_indices, axis='index')\n",
    "\n",
    "# apply the bhk_remover_outlier function to the df dataframe\n",
    "whole_new2_df2 = bhk_remover_outlier(whole_new1_df1)"
   ]
  },
  {
   "cell_type": "code",
   "execution_count": 106,
   "id": "0f7183a7",
   "metadata": {},
   "outputs": [
    {
     "data": {
      "text/html": [
       "<div>\n",
       "<style scoped>\n",
       "    .dataframe tbody tr th:only-of-type {\n",
       "        vertical-align: middle;\n",
       "    }\n",
       "\n",
       "    .dataframe tbody tr th {\n",
       "        vertical-align: top;\n",
       "    }\n",
       "\n",
       "    .dataframe thead th {\n",
       "        text-align: right;\n",
       "    }\n",
       "</style>\n",
       "<table border=\"1\" class=\"dataframe\">\n",
       "  <thead>\n",
       "    <tr style=\"text-align: right;\">\n",
       "      <th></th>\n",
       "      <th>total_sqft</th>\n",
       "      <th>bath</th>\n",
       "      <th>price</th>\n",
       "      <th>size_bhk</th>\n",
       "      <th>price_per_sqft</th>\n",
       "      <th>bhk_per_sqft</th>\n",
       "    </tr>\n",
       "  </thead>\n",
       "  <tbody>\n",
       "    <tr>\n",
       "      <th>count</th>\n",
       "      <td>7677.000000</td>\n",
       "      <td>7677.000000</td>\n",
       "      <td>7677.000000</td>\n",
       "      <td>7677.000000</td>\n",
       "      <td>7677.000000</td>\n",
       "      <td>7677.000000</td>\n",
       "    </tr>\n",
       "    <tr>\n",
       "      <th>mean</th>\n",
       "      <td>1604.942901</td>\n",
       "      <td>2.512700</td>\n",
       "      <td>121.683234</td>\n",
       "      <td>2.533411</td>\n",
       "      <td>67.328984</td>\n",
       "      <td>626.865040</td>\n",
       "    </tr>\n",
       "    <tr>\n",
       "      <th>std</th>\n",
       "      <td>1030.740511</td>\n",
       "      <td>1.054409</td>\n",
       "      <td>142.420792</td>\n",
       "      <td>0.947328</td>\n",
       "      <td>32.455293</td>\n",
       "      <td>378.610177</td>\n",
       "    </tr>\n",
       "    <tr>\n",
       "      <th>min</th>\n",
       "      <td>395.000000</td>\n",
       "      <td>1.000000</td>\n",
       "      <td>9.000000</td>\n",
       "      <td>1.000000</td>\n",
       "      <td>5.739210</td>\n",
       "      <td>387.075000</td>\n",
       "    </tr>\n",
       "    <tr>\n",
       "      <th>25%</th>\n",
       "      <td>1120.000000</td>\n",
       "      <td>2.000000</td>\n",
       "      <td>52.350000</td>\n",
       "      <td>2.000000</td>\n",
       "      <td>47.619048</td>\n",
       "      <td>520.000000</td>\n",
       "    </tr>\n",
       "    <tr>\n",
       "      <th>50%</th>\n",
       "      <td>1305.000000</td>\n",
       "      <td>2.000000</td>\n",
       "      <td>80.000000</td>\n",
       "      <td>2.000000</td>\n",
       "      <td>60.000000</td>\n",
       "      <td>586.666667</td>\n",
       "    </tr>\n",
       "    <tr>\n",
       "      <th>75%</th>\n",
       "      <td>1760.000000</td>\n",
       "      <td>3.000000</td>\n",
       "      <td>130.000000</td>\n",
       "      <td>3.000000</td>\n",
       "      <td>75.135135</td>\n",
       "      <td>656.500000</td>\n",
       "    </tr>\n",
       "    <tr>\n",
       "      <th>max</th>\n",
       "      <td>30000.000000</td>\n",
       "      <td>16.000000</td>\n",
       "      <td>2340.000000</td>\n",
       "      <td>16.000000</td>\n",
       "      <td>302.419355</td>\n",
       "      <td>26136.000000</td>\n",
       "    </tr>\n",
       "  </tbody>\n",
       "</table>\n",
       "</div>"
      ],
      "text/plain": [
       "         total_sqft         bath        price     size_bhk  price_per_sqft  \\\n",
       "count   7677.000000  7677.000000  7677.000000  7677.000000     7677.000000   \n",
       "mean    1604.942901     2.512700   121.683234     2.533411       67.328984   \n",
       "std     1030.740511     1.054409   142.420792     0.947328       32.455293   \n",
       "min      395.000000     1.000000     9.000000     1.000000        5.739210   \n",
       "25%     1120.000000     2.000000    52.350000     2.000000       47.619048   \n",
       "50%     1305.000000     2.000000    80.000000     2.000000       60.000000   \n",
       "75%     1760.000000     3.000000   130.000000     3.000000       75.135135   \n",
       "max    30000.000000    16.000000  2340.000000    16.000000      302.419355   \n",
       "\n",
       "       bhk_per_sqft  \n",
       "count   7677.000000  \n",
       "mean     626.865040  \n",
       "std      378.610177  \n",
       "min      387.075000  \n",
       "25%      520.000000  \n",
       "50%      586.666667  \n",
       "75%      656.500000  \n",
       "max    26136.000000  "
      ]
     },
     "execution_count": 106,
     "metadata": {},
     "output_type": "execute_result"
    }
   ],
   "source": [
    "whole_new2_df2.describe()"
   ]
  },
  {
   "cell_type": "code",
   "execution_count": 107,
   "id": "1cc34ce1",
   "metadata": {},
   "outputs": [
    {
     "data": {
      "image/png": "[encoded data removed]",
      "text/plain": [
       "<Figure size 1080x720 with 3 Axes>"
      ]
     },
     "metadata": {
      "needs_background": "light"
     },
     "output_type": "display_data"
    }
   ],
   "source": [
    "# Create a figure and three subplots for each boxplot\n",
    "fig, (ax1, ax2, ax3) = plt.subplots(ncols=3, figsize=(15,10))\n",
    "\n",
    "# Create the first boxplot for total_sqft\n",
    "ax1.boxplot(whole_new2_df2['total_sqft'])\n",
    "ax1.set_title('total_sqft 1')\n",
    "\n",
    "# Create the second boxplot for bath \n",
    "ax2.boxplot(whole_new2_df2['bath'])\n",
    "ax2.set_title('bath')\n",
    "\n",
    "# Create the third boxplot for bhk \n",
    "ax3.boxplot(whole_new2_df2['size_bhk'])\n",
    "ax3.set_title('size_bhk')\n",
    "\n",
    "# Show the plot\n",
    "plt.show()"
   ]
  },
  {
   "cell_type": "code",
   "execution_count": 108,
   "id": "07a64c99",
   "metadata": {},
   "outputs": [],
   "source": [
    "whole_new2_df2.drop(columns=['size','price_per_sqft','bhk_per_sqft'], axis=1, inplace=True)"
   ]
  },
  {
   "cell_type": "code",
   "execution_count": 109,
   "id": "e35d3c33",
   "metadata": {},
   "outputs": [
    {
     "data": {
      "text/plain": [
       "<seaborn.axisgrid.PairGrid at 0x2ae4dcd6e50>"
      ]
     },
     "execution_count": 109,
     "metadata": {},
     "output_type": "execute_result"
    },
    {
     "data": {
      "image/png": "[encoded data removed]",
      "text/plain": [
       "<Figure size 720x720 with 20 Axes>"
      ]
     },
     "metadata": {
      "needs_background": "light"
     },
     "output_type": "display_data"
    }
   ],
   "source": [
    "sns.pairplot(whole_new2_df2)"
   ]
  },
  {
   "cell_type": "code",
   "execution_count": 110,
   "id": "f006f444",
   "metadata": {},
   "outputs": [],
   "source": [
    "whole_new2_df2.to_csv(\"practice_cleaned_dataset.csv\")"
   ]
  },
  {
   "cell_type": "code",
   "execution_count": 111,
   "id": "5594a874",
   "metadata": {},
   "outputs": [],
   "source": [
    "pp_df = pd.read_csv('practice_cleaned_dataset.csv')"
   ]
  },
  {
   "cell_type": "code",
   "execution_count": 112,
   "id": "43b67b66",
   "metadata": {},
   "outputs": [
    {
     "data": {
      "text/plain": [
       "(7677, 6)"
      ]
     },
     "execution_count": 112,
     "metadata": {},
     "output_type": "execute_result"
    }
   ],
   "source": [
    "pp_df.shape"
   ]
  },
  {
   "cell_type": "code",
   "execution_count": 113,
   "id": "fe520cb4",
   "metadata": {
    "scrolled": true
   },
   "outputs": [
    {
     "data": {
      "text/html": [
       "<div>\n",
       "<style scoped>\n",
       "    .dataframe tbody tr th:only-of-type {\n",
       "        vertical-align: middle;\n",
       "    }\n",
       "\n",
       "    .dataframe tbody tr th {\n",
       "        vertical-align: top;\n",
       "    }\n",
       "\n",
       "    .dataframe thead th {\n",
       "        text-align: right;\n",
       "    }\n",
       "</style>\n",
       "<table border=\"1\" class=\"dataframe\">\n",
       "  <thead>\n",
       "    <tr style=\"text-align: right;\">\n",
       "      <th></th>\n",
       "      <th>Unnamed: 0</th>\n",
       "      <th>location</th>\n",
       "      <th>total_sqft</th>\n",
       "      <th>bath</th>\n",
       "      <th>price</th>\n",
       "      <th>size_bhk</th>\n",
       "    </tr>\n",
       "  </thead>\n",
       "  <tbody>\n",
       "    <tr>\n",
       "      <th>0</th>\n",
       "      <td>1</td>\n",
       "      <td>1st Phase JP Nagar</td>\n",
       "      <td>1875.0</td>\n",
       "      <td>3.0</td>\n",
       "      <td>167.0</td>\n",
       "      <td>3.0</td>\n",
       "    </tr>\n",
       "    <tr>\n",
       "      <th>1</th>\n",
       "      <td>2</td>\n",
       "      <td>1st Phase JP Nagar</td>\n",
       "      <td>2065.0</td>\n",
       "      <td>4.0</td>\n",
       "      <td>210.0</td>\n",
       "      <td>3.0</td>\n",
       "    </tr>\n",
       "    <tr>\n",
       "      <th>2</th>\n",
       "      <td>4</td>\n",
       "      <td>1st Phase JP Nagar</td>\n",
       "      <td>2059.0</td>\n",
       "      <td>3.0</td>\n",
       "      <td>225.0</td>\n",
       "      <td>3.0</td>\n",
       "    </tr>\n",
       "    <tr>\n",
       "      <th>3</th>\n",
       "      <td>5</td>\n",
       "      <td>1st Phase JP Nagar</td>\n",
       "      <td>1394.0</td>\n",
       "      <td>2.0</td>\n",
       "      <td>100.0</td>\n",
       "      <td>2.0</td>\n",
       "    </tr>\n",
       "    <tr>\n",
       "      <th>4</th>\n",
       "      <td>6</td>\n",
       "      <td>1st Phase JP Nagar</td>\n",
       "      <td>1077.0</td>\n",
       "      <td>2.0</td>\n",
       "      <td>93.0</td>\n",
       "      <td>2.0</td>\n",
       "    </tr>\n",
       "  </tbody>\n",
       "</table>\n",
       "</div>"
      ],
      "text/plain": [
       "   Unnamed: 0            location  total_sqft  bath  price  size_bhk\n",
       "0           1  1st Phase JP Nagar      1875.0   3.0  167.0       3.0\n",
       "1           2  1st Phase JP Nagar      2065.0   4.0  210.0       3.0\n",
       "2           4  1st Phase JP Nagar      2059.0   3.0  225.0       3.0\n",
       "3           5  1st Phase JP Nagar      1394.0   2.0  100.0       2.0\n",
       "4           6  1st Phase JP Nagar      1077.0   2.0   93.0       2.0"
      ]
     },
     "execution_count": 113,
     "metadata": {},
     "output_type": "execute_result"
    }
   ],
   "source": [
    "pp_df.head()"
   ]
  },
  {
   "cell_type": "code",
   "execution_count": 114,
   "id": "998ddbac",
   "metadata": {},
   "outputs": [],
   "source": [
    "pp_df = pd.read_csv(\"practice_cleaned_dataset.csv\")"
   ]
  },
  {
   "cell_type": "code",
   "execution_count": 115,
   "id": "a88535f3",
   "metadata": {},
   "outputs": [
    {
     "data": {
      "text/plain": [
       "(7677, 6)"
      ]
     },
     "execution_count": 115,
     "metadata": {},
     "output_type": "execute_result"
    }
   ],
   "source": [
    "pp_df.shape"
   ]
  },
  {
   "cell_type": "markdown",
   "id": "68f71cea",
   "metadata": {},
   "source": [
    "# Model training and Evaluation"
   ]
  },
  {
   "cell_type": "code",
   "execution_count": 116,
   "id": "b62eaa74",
   "metadata": {},
   "outputs": [],
   "source": [
    "#importing all the necessary libraries to perform the ML task\n",
    "from sklearn.model_selection import train_test_split\n",
    "from sklearn.linear_model import LinearRegression, Lasso, Ridge\n",
    "from sklearn.preprocessing import OneHotEncoder, StandardScaler\n",
    "from sklearn.compose import make_column_transformer\n",
    "from sklearn.pipeline import make_pipeline\n",
    "from sklearn.metrics import r2_score"
   ]
  },
  {
   "cell_type": "code",
   "execution_count": 117,
   "id": "1236229c",
   "metadata": {},
   "outputs": [],
   "source": [
    "x1 = pp_df.drop(columns=['price','Unnamed: 0'])\n",
    "y1 = pp_df['price']"
   ]
  },
  {
   "cell_type": "code",
   "execution_count": 118,
   "id": "32d3834e",
   "metadata": {},
   "outputs": [],
   "source": [
    "x1_train,x1_test,y1_train,y1_test = train_test_split(x1, y1, test_size=0.25, random_state=10)"
   ]
  },
  {
   "cell_type": "code",
   "execution_count": 119,
   "id": "4fdfb474",
   "metadata": {},
   "outputs": [],
   "source": [
    "column_transformer = make_column_transformer((OneHotEncoder(sparse=False),['location']), remainder ='passthrough')"
   ]
  },
  {
   "cell_type": "code",
   "execution_count": 120,
   "id": "ebbf867e",
   "metadata": {},
   "outputs": [],
   "source": [
    "scaler = StandardScaler()"
   ]
  },
  {
   "cell_type": "code",
   "execution_count": 121,
   "id": "e3afa088",
   "metadata": {},
   "outputs": [],
   "source": [
    "lr1 = LinearRegression(normalize=True)"
   ]
  },
  {
   "cell_type": "code",
   "execution_count": 122,
   "id": "cfbed6c0",
   "metadata": {},
   "outputs": [],
   "source": [
    "pipe6 = make_pipeline(column_transformer,scaler, lr1)"
   ]
  },
  {
   "cell_type": "code",
   "execution_count": 123,
   "id": "a644d441",
   "metadata": {},
   "outputs": [
    {
     "data": {
      "text/plain": [
       "Pipeline(steps=[('columntransformer',\n",
       "                 ColumnTransformer(remainder='passthrough',\n",
       "                                   transformers=[('onehotencoder',\n",
       "                                                  OneHotEncoder(sparse=False),\n",
       "                                                  ['location'])])),\n",
       "                ('standardscaler', StandardScaler()),\n",
       "                ('linearregression', LinearRegression(normalize=True))])"
      ]
     },
     "execution_count": 123,
     "metadata": {},
     "output_type": "execute_result"
    }
   ],
   "source": [
    "pipe6.fit(x1_train,y1_train)"
   ]
  },
  {
   "cell_type": "code",
   "execution_count": 163,
   "id": "b1196646",
   "metadata": {},
   "outputs": [
    {
     "data": {
      "text/plain": [
       "0.7157450843972057"
      ]
     },
     "execution_count": 163,
     "metadata": {},
     "output_type": "execute_result"
    }
   ],
   "source": [
    "y1_prediction_lr1 = list(pipe6.predict(x1_test))\n",
    "r2_score(y1_test, y1_prediction_lr1)"
   ]
  },
  {
   "cell_type": "code",
   "execution_count": 166,
   "id": "cf2d6669",
   "metadata": {},
   "outputs": [
    {
     "name": "stdout",
     "output_type": "stream",
     "text": [
      "Mean Squared Error: 7186.425987223807\n",
      "Mean Absolute Error: 35.56298437429386\n"
     ]
    }
   ],
   "source": [
    "# Evaluate the model using mean squared error and mean absolute errro\n",
    "mse_lr1 = mean_squared_error(y1_test, y1_prediction_lr1)\n",
    "mae_lr1 = mean_absolute_error(y1_test, y1_prediction_lr1)\n",
    "print(\"Mean Squared Error:\", mse_lr1)\n",
    "print(\"Mean Absolute Error:\", mae_lr1)"
   ]
  },
  {
   "cell_type": "code",
   "execution_count": 125,
   "id": "eab2edfa",
   "metadata": {},
   "outputs": [],
   "source": [
    "ls1= Lasso()"
   ]
  },
  {
   "cell_type": "code",
   "execution_count": 126,
   "id": "87c16670",
   "metadata": {},
   "outputs": [],
   "source": [
    "pipe11 = make_pipeline(column_transformer, scaler, ls1)"
   ]
  },
  {
   "cell_type": "code",
   "execution_count": 127,
   "id": "0fb3e187",
   "metadata": {},
   "outputs": [
    {
     "data": {
      "text/plain": [
       "Pipeline(steps=[('columntransformer',\n",
       "                 ColumnTransformer(remainder='passthrough',\n",
       "                                   transformers=[('onehotencoder',\n",
       "                                                  OneHotEncoder(sparse=False),\n",
       "                                                  ['location'])])),\n",
       "                ('standardscaler', StandardScaler()), ('lasso', Lasso())])"
      ]
     },
     "execution_count": 127,
     "metadata": {},
     "output_type": "execute_result"
    }
   ],
   "source": [
    "pipe11.fit(x1_train,y1_train)"
   ]
  },
  {
   "cell_type": "code",
   "execution_count": 128,
   "id": "d521713f",
   "metadata": {},
   "outputs": [
    {
     "data": {
      "text/plain": [
       "0.7148986626069167"
      ]
     },
     "execution_count": 128,
     "metadata": {},
     "output_type": "execute_result"
    }
   ],
   "source": [
    "y1_prediction_ls1 = list(pipe11.predict(x1_test))\n",
    "r2_score(y1_test, y1_prediction_ls1)"
   ]
  },
  {
   "cell_type": "code",
   "execution_count": 167,
   "id": "f70718a1",
   "metadata": {},
   "outputs": [
    {
     "name": "stdout",
     "output_type": "stream",
     "text": [
      "Mean Squared Error: 7207.824904941682\n",
      "Mean Absolute Error: 35.09892241744172\n"
     ]
    }
   ],
   "source": [
    "# Evaluate the model using mean squared error and mean absolute errro\n",
    "mse_ls1 = mean_squared_error(y1_test, y1_prediction_ls1)\n",
    "mae_ls1 = mean_absolute_error(y1_test, y1_prediction_ls1)\n",
    "print(\"Mean Squared Error:\", mse_ls1)\n",
    "print(\"Mean Absolute Error:\", mae_ls1)"
   ]
  },
  {
   "cell_type": "code",
   "execution_count": 129,
   "id": "b993b5b5",
   "metadata": {},
   "outputs": [],
   "source": [
    "rg1 = Ridge()"
   ]
  },
  {
   "cell_type": "code",
   "execution_count": 130,
   "id": "741868b5",
   "metadata": {},
   "outputs": [],
   "source": [
    "pipe7 = make_pipeline(column_transformer,scaler, rg1)"
   ]
  },
  {
   "cell_type": "code",
   "execution_count": 131,
   "id": "831d714f",
   "metadata": {},
   "outputs": [
    {
     "data": {
      "text/plain": [
       "Pipeline(steps=[('columntransformer',\n",
       "                 ColumnTransformer(remainder='passthrough',\n",
       "                                   transformers=[('onehotencoder',\n",
       "                                                  OneHotEncoder(sparse=False),\n",
       "                                                  ['location'])])),\n",
       "                ('standardscaler', StandardScaler()), ('ridge', Ridge())])"
      ]
     },
     "execution_count": 131,
     "metadata": {},
     "output_type": "execute_result"
    }
   ],
   "source": [
    "pipe7.fit(x1_train,y1_train)"
   ]
  },
  {
   "cell_type": "code",
   "execution_count": 132,
   "id": "dbeb45da",
   "metadata": {},
   "outputs": [
    {
     "data": {
      "text/plain": [
       "0.7156214374608125"
      ]
     },
     "execution_count": 132,
     "metadata": {},
     "output_type": "execute_result"
    }
   ],
   "source": [
    "y1_prediction_rg1 = list(pipe7.predict(x1_test))\n",
    "r2_score(y1_test, y1_prediction_rg1)"
   ]
  },
  {
   "cell_type": "code",
   "execution_count": 168,
   "id": "9e29ba7a",
   "metadata": {},
   "outputs": [
    {
     "name": "stdout",
     "output_type": "stream",
     "text": [
      "Mean Squared Error: 7189.551982617947\n",
      "Mean Absolute Error: 35.55993534094411\n"
     ]
    }
   ],
   "source": [
    "# Evaluate the model using mean squared error and mean absolute errro\n",
    "mse_rg1 = mean_squared_error(y1_test, y1_prediction_rg1)\n",
    "mae_rg1 = mean_absolute_error(y1_test, y1_prediction_rg1)\n",
    "print(\"Mean Squared Error:\", mse_rg1)\n",
    "print(\"Mean Absolute Error:\", mae_rg1)"
   ]
  },
  {
   "cell_type": "code",
   "execution_count": 133,
   "id": "160a3c71",
   "metadata": {},
   "outputs": [],
   "source": [
    "from sklearn.svm import SVR"
   ]
  },
  {
   "cell_type": "code",
   "execution_count": 134,
   "id": "311db19b",
   "metadata": {},
   "outputs": [],
   "source": [
    "model1=SVR()"
   ]
  },
  {
   "cell_type": "code",
   "execution_count": 135,
   "id": "020381a0",
   "metadata": {},
   "outputs": [],
   "source": [
    "pipe8 = make_pipeline(column_transformer,scaler, model1)"
   ]
  },
  {
   "cell_type": "code",
   "execution_count": 136,
   "id": "ccf482e1",
   "metadata": {},
   "outputs": [
    {
     "data": {
      "text/plain": [
       "Pipeline(steps=[('columntransformer',\n",
       "                 ColumnTransformer(remainder='passthrough',\n",
       "                                   transformers=[('onehotencoder',\n",
       "                                                  OneHotEncoder(sparse=False),\n",
       "                                                  ['location'])])),\n",
       "                ('standardscaler', StandardScaler()), ('svr', SVR())])"
      ]
     },
     "execution_count": 136,
     "metadata": {},
     "output_type": "execute_result"
    }
   ],
   "source": [
    "pipe8.fit(x1_train,y1_train)"
   ]
  },
  {
   "cell_type": "code",
   "execution_count": 169,
   "id": "a356f655",
   "metadata": {},
   "outputs": [],
   "source": [
    "y1_prediction_svr = list(pipe8.predict(x1_test))"
   ]
  },
  {
   "cell_type": "code",
   "execution_count": 137,
   "id": "6873a5ee",
   "metadata": {},
   "outputs": [
    {
     "data": {
      "text/plain": [
       "0.18712135823226506"
      ]
     },
     "execution_count": 137,
     "metadata": {},
     "output_type": "execute_result"
    }
   ],
   "source": [
    "pipe8.score(x1_test,y1_test)"
   ]
  },
  {
   "cell_type": "code",
   "execution_count": 170,
   "id": "b7b928a6",
   "metadata": {},
   "outputs": [
    {
     "name": "stdout",
     "output_type": "stream",
     "text": [
      "Mean Squared Error: 20550.892438468058\n",
      "Mean Absolute Error: 51.6834626461522\n"
     ]
    }
   ],
   "source": [
    "# Evaluate the model using mean squared error and mean absolute errro\n",
    "mse_svr1 = mean_squared_error(y1_test, y1_prediction_svr)\n",
    "mae_svr1 = mean_absolute_error(y1_test, y1_prediction_svr)\n",
    "print(\"Mean Squared Error:\", mse_svr1)\n",
    "print(\"Mean Absolute Error:\", mae_svr1)"
   ]
  },
  {
   "cell_type": "code",
   "execution_count": 138,
   "id": "7616b2d0",
   "metadata": {},
   "outputs": [],
   "source": [
    "from sklearn.ensemble import RandomForestRegressor"
   ]
  },
  {
   "cell_type": "code",
   "execution_count": 139,
   "id": "1c86edc1",
   "metadata": {},
   "outputs": [],
   "source": [
    "rfr1 = RandomForestRegressor()"
   ]
  },
  {
   "cell_type": "code",
   "execution_count": 140,
   "id": "34f3b462",
   "metadata": {},
   "outputs": [],
   "source": [
    "pipe9 = make_pipeline(column_transformer,scaler, rfr1)"
   ]
  },
  {
   "cell_type": "code",
   "execution_count": 141,
   "id": "a787f1bb",
   "metadata": {},
   "outputs": [
    {
     "data": {
      "text/plain": [
       "Pipeline(steps=[('columntransformer',\n",
       "                 ColumnTransformer(remainder='passthrough',\n",
       "                                   transformers=[('onehotencoder',\n",
       "                                                  OneHotEncoder(sparse=False),\n",
       "                                                  ['location'])])),\n",
       "                ('standardscaler', StandardScaler()),\n",
       "                ('randomforestregressor', RandomForestRegressor())])"
      ]
     },
     "execution_count": 141,
     "metadata": {},
     "output_type": "execute_result"
    }
   ],
   "source": [
    "pipe9.fit(x1_train,y1_train)"
   ]
  },
  {
   "cell_type": "code",
   "execution_count": 171,
   "id": "b206df2d",
   "metadata": {},
   "outputs": [],
   "source": [
    "y1_prediction_rf = list(pipe9.predict(x1_test))"
   ]
  },
  {
   "cell_type": "code",
   "execution_count": 172,
   "id": "a9e5331d",
   "metadata": {},
   "outputs": [
    {
     "data": {
      "text/plain": [
       "0.8190948489081642"
      ]
     },
     "execution_count": 172,
     "metadata": {},
     "output_type": "execute_result"
    }
   ],
   "source": [
    "pipe9.score(x1_test,y1_test)"
   ]
  },
  {
   "cell_type": "code",
   "execution_count": 173,
   "id": "24581762",
   "metadata": {},
   "outputs": [
    {
     "name": "stdout",
     "output_type": "stream",
     "text": [
      "Mean Squared Error: 4573.57606735522\n",
      "Mean Absolute Error: 26.142988903724994\n"
     ]
    }
   ],
   "source": [
    "# Evaluate the model using mean squared error and mean absolute errro\n",
    "mse_rf1 = mean_squared_error(y1_test, y1_prediction_rf)\n",
    "mae_rf1 = mean_absolute_error(y1_test, y1_prediction_rf)\n",
    "print(\"Mean Squared Error:\", mse_rf1)\n",
    "print(\"Mean Absolute Error:\", mae_rf1)"
   ]
  },
  {
   "cell_type": "code",
   "execution_count": 143,
   "id": "d8353ea6",
   "metadata": {},
   "outputs": [],
   "source": [
    "from sklearn.linear_model import RANSACRegressor"
   ]
  },
  {
   "cell_type": "code",
   "execution_count": 144,
   "id": "1ff34e17",
   "metadata": {},
   "outputs": [],
   "source": [
    "ransac1 = RANSACRegressor()"
   ]
  },
  {
   "cell_type": "code",
   "execution_count": 145,
   "id": "844494c5",
   "metadata": {},
   "outputs": [],
   "source": [
    "pipe10 = make_pipeline(column_transformer,scaler, ransac1)"
   ]
  },
  {
   "cell_type": "code",
   "execution_count": 146,
   "id": "736e99e7",
   "metadata": {},
   "outputs": [
    {
     "data": {
      "text/plain": [
       "Pipeline(steps=[('columntransformer',\n",
       "                 ColumnTransformer(remainder='passthrough',\n",
       "                                   transformers=[('onehotencoder',\n",
       "                                                  OneHotEncoder(sparse=False),\n",
       "                                                  ['location'])])),\n",
       "                ('standardscaler', StandardScaler()),\n",
       "                ('ransacregressor', RANSACRegressor())])"
      ]
     },
     "execution_count": 146,
     "metadata": {},
     "output_type": "execute_result"
    }
   ],
   "source": [
    "pipe10.fit(x1_train,y1_train)"
   ]
  },
  {
   "cell_type": "code",
   "execution_count": 147,
   "id": "85b67d55",
   "metadata": {},
   "outputs": [
    {
     "data": {
      "text/plain": [
       "-2.5939373248439933e+26"
      ]
     },
     "execution_count": 147,
     "metadata": {},
     "output_type": "execute_result"
    }
   ],
   "source": [
    "pipe10.score(x1_train,y1_train)"
   ]
  },
  {
   "cell_type": "markdown",
   "id": "cf7f14b0",
   "metadata": {},
   "source": [
    "# Comparison of the model's accuracy following the dataset's preprocessing in two distinct methods."
   ]
  },
  {
   "cell_type": "code",
   "execution_count": 148,
   "id": "398dc9e2",
   "metadata": {},
   "outputs": [
    {
     "name": "stdout",
     "output_type": "stream",
     "text": [
      "Model Accuracy for the First Case Dataset\n",
      "\n",
      "LinearRegression Accuracy: 36.81278598186021\n",
      "Lasso Accuracy: 36.57727833247495\n",
      "Ridge Accuracy: 36.812611148627994\n",
      "Support Vector Regressor Accuracy: 36.54223457914143\n"
     ]
    }
   ],
   "source": [
    "print('Model Accuracy for the First Case Dataset')\n",
    "print()\n",
    "print('LinearRegression Accuracy:', r2_score(y_test, y_prediction_lr)*100)\n",
    "print('Lasso Accuracy:', r2_score(y_test, y_prediction_ls)*100)\n",
    "print('Ridge Accuracy:', r2_score(y_test, y_prediction_rg)*100)\n",
    "\n",
    "print('Support Vector Regressor Accuracy:', pipe4.score(x_test,y_test)*100)"
   ]
  },
  {
   "cell_type": "code",
   "execution_count": 149,
   "id": "681d1059",
   "metadata": {},
   "outputs": [
    {
     "name": "stdout",
     "output_type": "stream",
     "text": [
      "Model Accuracy for the Second Case Dataset\n",
      "\n",
      "LinearRegression Accuracy: 71.57450843972057\n",
      "Lasso Accuracy: 71.48986626069167\n",
      "Ridge Accuracy: 71.56214374608125\n",
      "Support Vector Regressor Accuracy: 18.712135823226504\n",
      "RandomForestRegressor Accuracy: 81.90948489081642\n"
     ]
    }
   ],
   "source": [
    "print('Model Accuracy for the Second Case Dataset')\n",
    "print()\n",
    "print('LinearRegression Accuracy:', r2_score(y1_test, y1_prediction_lr1)*100)\n",
    "print('Lasso Accuracy:', r2_score(y1_test, y1_prediction_ls1)*100)\n",
    "print('Ridge Accuracy:', r2_score(y1_test, y1_prediction_rg1)*100)\n",
    "\n",
    "print('Support Vector Regressor Accuracy:', pipe8.score(x1_test,y1_test)*100)\n",
    "print('RandomForestRegressor Accuracy:', pipe9.score(x1_test,y1_test)*100)"
   ]
  },
  {
   "cell_type": "code",
   "execution_count": null,
   "id": "af5db6de",
   "metadata": {},
   "outputs": [],
   "source": []
  }
 ],
 "metadata": {
  "kernelspec": {
   "display_name": "Python 3",
   "language": "python",
   "name": "python3"
  },
  "language_info": {
   "codemirror_mode": {
    "name": "ipython",
    "version": 3
   },
   "file_extension": ".py",
   "mimetype": "text/x-python",
   "name": "python",
   "nbconvert_exporter": "python",
   "pygments_lexer": "ipython3",
   "version": "3.8.8"
  }
 },
 "nbformat": 4,
 "nbformat_minor": 5
}
